{
 "cells": [
  {
   "cell_type": "markdown",
   "metadata": {},
   "source": [
    "# Sparkify Project Workspace\n",
    "This workspace contains a tiny subset (128MB) of the full dataset available (12GB). Feel free to use this workspace to build your project, or to explore a smaller subset with Spark before deploying your cluster on the cloud. Instructions for setting up your Spark cluster is included in the last lesson of the Extracurricular Spark Course content.\n",
    "\n",
    "You can follow the steps below to guide your data analysis and model building portion of this project."
   ]
  },
  {
   "cell_type": "code",
   "execution_count": 1,
   "metadata": {},
   "outputs": [],
   "source": [
    "# import libraries\n",
    "from pyspark.sql import SparkSession\n",
    "from pyspark.sql.functions import isnan, count, col, udf, when, countDistinct, sum, mean, desc\n",
    "\n",
    "from pyspark.ml import Pipeline\n",
    "from pyspark.ml.feature import OneHotEncoderEstimator, StringIndexer, VectorAssembler, MinMaxScaler\n",
    "from pyspark.ml.classification import LinearSVC, RandomForestClassifier, LogisticRegression\n",
    "from pyspark.ml.tuning import CrossValidator, ParamGridBuilder\n",
    "from pyspark.ml.evaluation import MulticlassClassificationEvaluator\n",
    "\n",
    "import matplotlib.pyplot as plt\n",
    "import numpy as np\n",
    "import pandas as pd\n",
    "from math import pi\n",
    "\n",
    "%matplotlib inline"
   ]
  },
  {
   "cell_type": "code",
   "execution_count": 2,
   "metadata": {},
   "outputs": [],
   "source": [
    "# create a Spark session\n",
    "spark = SparkSession \\\n",
    "    .builder \\\n",
    "    .appName(\"Sparkify churn\") \\\n",
    "    .getOrCreate()"
   ]
  },
  {
   "cell_type": "markdown",
   "metadata": {},
   "source": [
    "---"
   ]
  },
  {
   "cell_type": "markdown",
   "metadata": {},
   "source": [
    "# Load and Clean Dataset\n",
    "In this workspace, the mini-dataset file is `mini_sparkify_event_data.json`. Load and clean the dataset, checking for invalid or missing data - for example, records without userids or sessionids. "
   ]
  },
  {
   "cell_type": "code",
   "execution_count": 3,
   "metadata": {},
   "outputs": [
    {
     "data": {
      "text/plain": [
       "DataFrame[artist: string, auth: string, firstName: string, gender: string, itemInSession: bigint, lastName: string, length: double, level: string, location: string, method: string, page: string, registration: bigint, sessionId: bigint, song: string, status: bigint, ts: bigint, userAgent: string, userId: string]"
      ]
     },
     "execution_count": 3,
     "metadata": {},
     "output_type": "execute_result"
    }
   ],
   "source": [
    "# read json of subset data\n",
    "path = \"mini_sparkify_event_data.json\"\n",
    "df = spark.read.json(path)\n",
    "df.persist()"
   ]
  },
  {
   "cell_type": "code",
   "execution_count": 4,
   "metadata": {},
   "outputs": [
    {
     "data": {
      "text/plain": [
       "[Row(artist='Martha Tilston', auth='Logged In', firstName='Colin', gender='M', itemInSession=50, lastName='Freeman', length=277.89016, level='paid', location='Bakersfield, CA', method='PUT', page='NextSong', registration=1538173362000, sessionId=29, song='Rockpools', status=200, ts=1538352117000, userAgent='Mozilla/5.0 (Windows NT 6.1; WOW64; rv:31.0) Gecko/20100101 Firefox/31.0', userId='30'),\n",
       " Row(artist='Five Iron Frenzy', auth='Logged In', firstName='Micah', gender='M', itemInSession=79, lastName='Long', length=236.09424, level='free', location='Boston-Cambridge-Newton, MA-NH', method='PUT', page='NextSong', registration=1538331630000, sessionId=8, song='Canada', status=200, ts=1538352180000, userAgent='\"Mozilla/5.0 (Windows NT 6.1; WOW64) AppleWebKit/537.36 (KHTML, like Gecko) Chrome/37.0.2062.103 Safari/537.36\"', userId='9'),\n",
       " Row(artist='Adam Lambert', auth='Logged In', firstName='Colin', gender='M', itemInSession=51, lastName='Freeman', length=282.8273, level='paid', location='Bakersfield, CA', method='PUT', page='NextSong', registration=1538173362000, sessionId=29, song='Time For Miracles', status=200, ts=1538352394000, userAgent='Mozilla/5.0 (Windows NT 6.1; WOW64; rv:31.0) Gecko/20100101 Firefox/31.0', userId='30'),\n",
       " Row(artist='Enigma', auth='Logged In', firstName='Micah', gender='M', itemInSession=80, lastName='Long', length=262.71302, level='free', location='Boston-Cambridge-Newton, MA-NH', method='PUT', page='NextSong', registration=1538331630000, sessionId=8, song='Knocking On Forbidden Doors', status=200, ts=1538352416000, userAgent='\"Mozilla/5.0 (Windows NT 6.1; WOW64) AppleWebKit/537.36 (KHTML, like Gecko) Chrome/37.0.2062.103 Safari/537.36\"', userId='9'),\n",
       " Row(artist='Daft Punk', auth='Logged In', firstName='Colin', gender='M', itemInSession=52, lastName='Freeman', length=223.60771, level='paid', location='Bakersfield, CA', method='PUT', page='NextSong', registration=1538173362000, sessionId=29, song='Harder Better Faster Stronger', status=200, ts=1538352676000, userAgent='Mozilla/5.0 (Windows NT 6.1; WOW64; rv:31.0) Gecko/20100101 Firefox/31.0', userId='30')]"
      ]
     },
     "execution_count": 4,
     "metadata": {},
     "output_type": "execute_result"
    }
   ],
   "source": [
    "# quick look at a few rows to get an idea of data\n",
    "df.take(5)"
   ]
  },
  {
   "cell_type": "code",
   "execution_count": 5,
   "metadata": {},
   "outputs": [
    {
     "name": "stdout",
     "output_type": "stream",
     "text": [
      "root\n",
      " |-- artist: string (nullable = true)\n",
      " |-- auth: string (nullable = true)\n",
      " |-- firstName: string (nullable = true)\n",
      " |-- gender: string (nullable = true)\n",
      " |-- itemInSession: long (nullable = true)\n",
      " |-- lastName: string (nullable = true)\n",
      " |-- length: double (nullable = true)\n",
      " |-- level: string (nullable = true)\n",
      " |-- location: string (nullable = true)\n",
      " |-- method: string (nullable = true)\n",
      " |-- page: string (nullable = true)\n",
      " |-- registration: long (nullable = true)\n",
      " |-- sessionId: long (nullable = true)\n",
      " |-- song: string (nullable = true)\n",
      " |-- status: long (nullable = true)\n",
      " |-- ts: long (nullable = true)\n",
      " |-- userAgent: string (nullable = true)\n",
      " |-- userId: string (nullable = true)\n",
      "\n"
     ]
    }
   ],
   "source": [
    "df.printSchema()"
   ]
  },
  {
   "cell_type": "code",
   "execution_count": 6,
   "metadata": {},
   "outputs": [
    {
     "data": {
      "text/html": [
       "<div>\n",
       "<style scoped>\n",
       "    .dataframe tbody tr th:only-of-type {\n",
       "        vertical-align: middle;\n",
       "    }\n",
       "\n",
       "    .dataframe tbody tr th {\n",
       "        vertical-align: top;\n",
       "    }\n",
       "\n",
       "    .dataframe thead th {\n",
       "        text-align: right;\n",
       "    }\n",
       "</style>\n",
       "<table border=\"1\" class=\"dataframe\">\n",
       "  <thead>\n",
       "    <tr style=\"text-align: right;\">\n",
       "      <th></th>\n",
       "      <th>summary</th>\n",
       "      <th>artist</th>\n",
       "      <th>auth</th>\n",
       "      <th>firstName</th>\n",
       "      <th>gender</th>\n",
       "      <th>itemInSession</th>\n",
       "      <th>lastName</th>\n",
       "      <th>length</th>\n",
       "      <th>level</th>\n",
       "      <th>location</th>\n",
       "      <th>method</th>\n",
       "      <th>page</th>\n",
       "      <th>registration</th>\n",
       "      <th>sessionId</th>\n",
       "      <th>song</th>\n",
       "      <th>status</th>\n",
       "      <th>ts</th>\n",
       "      <th>userAgent</th>\n",
       "      <th>userId</th>\n",
       "    </tr>\n",
       "  </thead>\n",
       "  <tbody>\n",
       "    <tr>\n",
       "      <th>0</th>\n",
       "      <td>count</td>\n",
       "      <td>228108</td>\n",
       "      <td>286500</td>\n",
       "      <td>278154</td>\n",
       "      <td>278154</td>\n",
       "      <td>286500</td>\n",
       "      <td>278154</td>\n",
       "      <td>228108</td>\n",
       "      <td>286500</td>\n",
       "      <td>278154</td>\n",
       "      <td>286500</td>\n",
       "      <td>286500</td>\n",
       "      <td>278154</td>\n",
       "      <td>286500</td>\n",
       "      <td>228108</td>\n",
       "      <td>286500</td>\n",
       "      <td>286500</td>\n",
       "      <td>278154</td>\n",
       "      <td>286500</td>\n",
       "    </tr>\n",
       "    <tr>\n",
       "      <th>1</th>\n",
       "      <td>mean</td>\n",
       "      <td>551.0852017937219</td>\n",
       "      <td>None</td>\n",
       "      <td>None</td>\n",
       "      <td>None</td>\n",
       "      <td>114.41421291448516</td>\n",
       "      <td>None</td>\n",
       "      <td>249.1171819778458</td>\n",
       "      <td>None</td>\n",
       "      <td>None</td>\n",
       "      <td>None</td>\n",
       "      <td>None</td>\n",
       "      <td>1.5353588340844272E12</td>\n",
       "      <td>1041.526554973822</td>\n",
       "      <td>Infinity</td>\n",
       "      <td>210.05459685863875</td>\n",
       "      <td>1.5409568898104834E12</td>\n",
       "      <td>None</td>\n",
       "      <td>59682.02278593872</td>\n",
       "    </tr>\n",
       "    <tr>\n",
       "      <th>2</th>\n",
       "      <td>stddev</td>\n",
       "      <td>1217.7693079161374</td>\n",
       "      <td>None</td>\n",
       "      <td>None</td>\n",
       "      <td>None</td>\n",
       "      <td>129.76726201140994</td>\n",
       "      <td>None</td>\n",
       "      <td>99.23517921058361</td>\n",
       "      <td>None</td>\n",
       "      <td>None</td>\n",
       "      <td>None</td>\n",
       "      <td>None</td>\n",
       "      <td>3.291321616327586E9</td>\n",
       "      <td>726.7762634630741</td>\n",
       "      <td>NaN</td>\n",
       "      <td>31.50507848842214</td>\n",
       "      <td>1.5075439608226302E9</td>\n",
       "      <td>None</td>\n",
       "      <td>109091.9499991047</td>\n",
       "    </tr>\n",
       "    <tr>\n",
       "      <th>3</th>\n",
       "      <td>min</td>\n",
       "      <td>!!!</td>\n",
       "      <td>Cancelled</td>\n",
       "      <td>Adelaida</td>\n",
       "      <td>F</td>\n",
       "      <td>0</td>\n",
       "      <td>Adams</td>\n",
       "      <td>0.78322</td>\n",
       "      <td>free</td>\n",
       "      <td>Albany, OR</td>\n",
       "      <td>GET</td>\n",
       "      <td>About</td>\n",
       "      <td>1521380675000</td>\n",
       "      <td>1</td>\n",
       "      <td>ÃÂg ÃÂtti GrÃÂ¡a ÃÂsku</td>\n",
       "      <td>200</td>\n",
       "      <td>1538352117000</td>\n",
       "      <td>\"Mozilla/5.0 (Macintosh; Intel Mac OS X 10_10)...</td>\n",
       "      <td></td>\n",
       "    </tr>\n",
       "    <tr>\n",
       "      <th>4</th>\n",
       "      <td>max</td>\n",
       "      <td>ÃÂlafur Arnalds</td>\n",
       "      <td>Logged Out</td>\n",
       "      <td>Zyonna</td>\n",
       "      <td>M</td>\n",
       "      <td>1321</td>\n",
       "      <td>Wright</td>\n",
       "      <td>3024.66567</td>\n",
       "      <td>paid</td>\n",
       "      <td>Winston-Salem, NC</td>\n",
       "      <td>PUT</td>\n",
       "      <td>Upgrade</td>\n",
       "      <td>1543247354000</td>\n",
       "      <td>2474</td>\n",
       "      <td>ÃÂau hafa sloppiÃÂ° undan ÃÂ¾unga myrkursins</td>\n",
       "      <td>404</td>\n",
       "      <td>1543799476000</td>\n",
       "      <td>Mozilla/5.0 (compatible; MSIE 9.0; Windows NT ...</td>\n",
       "      <td>99</td>\n",
       "    </tr>\n",
       "  </tbody>\n",
       "</table>\n",
       "</div>"
      ],
      "text/plain": [
       "  summary              artist        auth firstName  gender  \\\n",
       "0   count              228108      286500    278154  278154   \n",
       "1    mean   551.0852017937219        None      None    None   \n",
       "2  stddev  1217.7693079161374        None      None    None   \n",
       "3     min                 !!!   Cancelled  Adelaida       F   \n",
       "4     max   ÃÂlafur Arnalds  Logged Out    Zyonna       M   \n",
       "\n",
       "        itemInSession lastName             length   level           location  \\\n",
       "0              286500   278154             228108  286500             278154   \n",
       "1  114.41421291448516     None  249.1171819778458    None               None   \n",
       "2  129.76726201140994     None  99.23517921058361    None               None   \n",
       "3                   0    Adams            0.78322    free         Albany, OR   \n",
       "4                1321   Wright         3024.66567    paid  Winston-Salem, NC   \n",
       "\n",
       "   method     page           registration          sessionId  \\\n",
       "0  286500   286500                 278154             286500   \n",
       "1    None     None  1.5353588340844272E12  1041.526554973822   \n",
       "2    None     None    3.291321616327586E9  726.7762634630741   \n",
       "3     GET    About          1521380675000                  1   \n",
       "4     PUT  Upgrade          1543247354000               2474   \n",
       "\n",
       "                                               song              status  \\\n",
       "0                                            228108              286500   \n",
       "1                                          Infinity  210.05459685863875   \n",
       "2                                               NaN   31.50507848842214   \n",
       "3                    \n",
       "ÃÂg ÃÂtti GrÃÂ¡a ÃÂsku                 200   \n",
       "4  ÃÂau hafa sloppiÃÂ° undan ÃÂ¾unga myrkursins                 404   \n",
       "\n",
       "                      ts                                          userAgent  \\\n",
       "0                 286500                                             278154   \n",
       "1  1.5409568898104834E12                                               None   \n",
       "2   1.5075439608226302E9                                               None   \n",
       "3          1538352117000  \"Mozilla/5.0 (Macintosh; Intel Mac OS X 10_10)...   \n",
       "4          1543799476000  Mozilla/5.0 (compatible; MSIE 9.0; Windows NT ...   \n",
       "\n",
       "              userId  \n",
       "0             286500  \n",
       "1  59682.02278593872  \n",
       "2  109091.9499991047  \n",
       "3                     \n",
       "4                 99  "
      ]
     },
     "execution_count": 6,
     "metadata": {},
     "output_type": "execute_result"
    }
   ],
   "source": [
    "df.describe().toPandas()"
   ]
  },
  {
   "cell_type": "code",
   "execution_count": 7,
   "metadata": {},
   "outputs": [
    {
     "data": {
      "text/plain": [
       "286500"
      ]
     },
     "execution_count": 7,
     "metadata": {},
     "output_type": "execute_result"
    }
   ],
   "source": [
    "# Number of rows in df\n",
    "df.count()"
   ]
  },
  {
   "cell_type": "code",
   "execution_count": 8,
   "metadata": {},
   "outputs": [
    {
     "data": {
      "text/plain": [
       "226"
      ]
     },
     "execution_count": 8,
     "metadata": {},
     "output_type": "execute_result"
    }
   ],
   "source": [
    "# Unique userID\n",
    "df.select('userId').dropDuplicates().count()"
   ]
  },
  {
   "cell_type": "code",
   "execution_count": 9,
   "metadata": {},
   "outputs": [
    {
     "data": {
      "text/html": [
       "<div>\n",
       "<style scoped>\n",
       "    .dataframe tbody tr th:only-of-type {\n",
       "        vertical-align: middle;\n",
       "    }\n",
       "\n",
       "    .dataframe tbody tr th {\n",
       "        vertical-align: top;\n",
       "    }\n",
       "\n",
       "    .dataframe thead th {\n",
       "        text-align: right;\n",
       "    }\n",
       "</style>\n",
       "<table border=\"1\" class=\"dataframe\">\n",
       "  <thead>\n",
       "    <tr style=\"text-align: right;\">\n",
       "      <th></th>\n",
       "      <th>artist</th>\n",
       "      <th>auth</th>\n",
       "      <th>firstName</th>\n",
       "      <th>gender</th>\n",
       "      <th>itemInSession</th>\n",
       "      <th>lastName</th>\n",
       "      <th>length</th>\n",
       "      <th>level</th>\n",
       "      <th>location</th>\n",
       "      <th>method</th>\n",
       "      <th>page</th>\n",
       "      <th>registration</th>\n",
       "      <th>sessionId</th>\n",
       "      <th>song</th>\n",
       "      <th>status</th>\n",
       "      <th>ts</th>\n",
       "      <th>userAgent</th>\n",
       "      <th>userId</th>\n",
       "    </tr>\n",
       "  </thead>\n",
       "  <tbody>\n",
       "    <tr>\n",
       "      <th>0</th>\n",
       "      <td>58392</td>\n",
       "      <td>0</td>\n",
       "      <td>8346</td>\n",
       "      <td>8346</td>\n",
       "      <td>0</td>\n",
       "      <td>8346</td>\n",
       "      <td>58392</td>\n",
       "      <td>0</td>\n",
       "      <td>8346</td>\n",
       "      <td>0</td>\n",
       "      <td>0</td>\n",
       "      <td>8346</td>\n",
       "      <td>0</td>\n",
       "      <td>58392</td>\n",
       "      <td>0</td>\n",
       "      <td>0</td>\n",
       "      <td>8346</td>\n",
       "      <td>0</td>\n",
       "    </tr>\n",
       "  </tbody>\n",
       "</table>\n",
       "</div>"
      ],
      "text/plain": [
       "   artist  auth  firstName  gender  itemInSession  lastName  length  level  \\\n",
       "0   58392     0       8346    8346              0      8346   58392      0   \n",
       "\n",
       "   location  method  page  registration  sessionId   song  status  ts  \\\n",
       "0      8346       0     0          8346          0  58392       0   0   \n",
       "\n",
       "   userAgent  userId  \n",
       "0       8346       0  "
      ]
     },
     "execution_count": 9,
     "metadata": {},
     "output_type": "execute_result"
    }
   ],
   "source": [
    "# check on missing values\n",
    "df.select([count(when(isnan(c) | col(c).isNull(), c)).alias(c) for c in df.columns]).toPandas()"
   ]
  },
  {
   "cell_type": "markdown",
   "metadata": {},
   "source": [
    "It is ok to have None values for `artist/length/song` when not on NextSong page.  \n",
    "However, it seems we have missing values (8436) in user information columns (firstname, gender, lastname, location, registration) but there are no missing values in the `userId` or `sessionId` columns.  \n",
    "Let's look at `userId`"
   ]
  },
  {
   "cell_type": "code",
   "execution_count": 10,
   "metadata": {},
   "outputs": [
    {
     "name": "stdout",
     "output_type": "stream",
     "text": [
      "+------+\n",
      "|userId|\n",
      "+------+\n",
      "|      |\n",
      "|    10|\n",
      "|   100|\n",
      "|100001|\n",
      "|100002|\n",
      "|100003|\n",
      "|100004|\n",
      "|100005|\n",
      "|100006|\n",
      "|100007|\n",
      "+------+\n",
      "only showing top 10 rows\n",
      "\n"
     ]
    }
   ],
   "source": [
    "df.select(\"userId\").dropDuplicates().sort(\"userId\").show(10)"
   ]
  },
  {
   "cell_type": "markdown",
   "metadata": {},
   "source": [
    "There are `userId` values that are empty strings. These are users who have not signed up yet or who are signed out and are about to log in."
   ]
  },
  {
   "cell_type": "code",
   "execution_count": 11,
   "metadata": {},
   "outputs": [],
   "source": [
    "# filter out userId with empty string\n",
    "df_valid = df.filter(df[\"userId\"] != \"\")"
   ]
  },
  {
   "cell_type": "code",
   "execution_count": 12,
   "metadata": {},
   "outputs": [
    {
     "data": {
      "text/plain": [
       "278154"
      ]
     },
     "execution_count": 12,
     "metadata": {},
     "output_type": "execute_result"
    }
   ],
   "source": [
    "# keep valid userId => 286500 - 8346 = 278154\n",
    "df_valid.count()"
   ]
  },
  {
   "cell_type": "code",
   "execution_count": 13,
   "metadata": {},
   "outputs": [
    {
     "data": {
      "text/plain": [
       "225"
      ]
     },
     "execution_count": 13,
     "metadata": {},
     "output_type": "execute_result"
    }
   ],
   "source": [
    "df_valid.select('userId').dropDuplicates().count()"
   ]
  },
  {
   "cell_type": "markdown",
   "metadata": {},
   "source": [
    "---"
   ]
  },
  {
   "cell_type": "markdown",
   "metadata": {},
   "source": [
    "# Exploratory Data Analysis\n",
    "When you're working with the full dataset, perform EDA by loading a small subset of the data and doing basic manipulations within Spark. In this workspace, you are already provided a small subset of data you can explore.\n",
    "\n",
    "### Define Churn\n",
    "\n",
    "Once you've done some preliminary analysis, create a column `Churn` to use as the label for your model. I suggest using the `Cancellation Confirmation` events to define your churn, which happen for both paid and free users. As a bonus task, you can also look into the `Downgrade` events."
   ]
  },
  {
   "cell_type": "code",
   "execution_count": 14,
   "metadata": {},
   "outputs": [
    {
     "name": "stdout",
     "output_type": "stream",
     "text": [
      "+-------------------------+\n",
      "|page                     |\n",
      "+-------------------------+\n",
      "|About                    |\n",
      "|Add Friend               |\n",
      "|Add to Playlist          |\n",
      "|Cancel                   |\n",
      "|Cancellation Confirmation|\n",
      "|Downgrade                |\n",
      "|Error                    |\n",
      "|Help                     |\n",
      "|Home                     |\n",
      "|Logout                   |\n",
      "|NextSong                 |\n",
      "|Roll Advert              |\n",
      "|Save Settings            |\n",
      "|Settings                 |\n",
      "|Submit Downgrade         |\n",
      "|Submit Upgrade           |\n",
      "|Thumbs Down              |\n",
      "|Thumbs Up                |\n",
      "|Upgrade                  |\n",
      "+-------------------------+\n",
      "\n"
     ]
    }
   ],
   "source": [
    "# Next cells continue with some preliminary data exploration then create the Churn column.\n",
    "\n",
    "# Pages that users can visit \n",
    "df_valid.select(\"page\").dropDuplicates().sort(\"page\").show(truncate=False)"
   ]
  },
  {
   "cell_type": "code",
   "execution_count": 15,
   "metadata": {},
   "outputs": [
    {
     "name": "stdout",
     "output_type": "stream",
     "text": [
      "+-----+----------------------+\n",
      "|level|count(DISTINCT userId)|\n",
      "+-----+----------------------+\n",
      "| free|                   195|\n",
      "| paid|                   165|\n",
      "+-----+----------------------+\n",
      "\n"
     ]
    }
   ],
   "source": [
    "# look at level (free vs paid profiles) of users totals/ users can switchbetween levels\n",
    "df_valid.groupBy(\"level\").agg(countDistinct('userId')).show()"
   ]
  },
  {
   "cell_type": "code",
   "execution_count": 16,
   "metadata": {},
   "outputs": [
    {
     "name": "stdout",
     "output_type": "stream",
     "text": [
      "+------+---------+---------+------+-------------+--------+------+-----+--------------------+------+--------------------+-------------+---------+----+------+-------------+--------------------+------+\n",
      "|artist|     auth|firstName|gender|itemInSession|lastName|length|level|            location|method|                page| registration|sessionId|song|status|           ts|           userAgent|userId|\n",
      "+------+---------+---------+------+-------------+--------+------+-----+--------------------+------+--------------------+-------------+---------+----+------+-------------+--------------------+------+\n",
      "|  null|Cancelled|   Adriel|     M|          104| Mendoza|  null| paid|  Kansas City, MO-KS|   GET|Cancellation Conf...|1535623466000|      514|null|   200|1538943990000|\"Mozilla/5.0 (Mac...|    18|\n",
      "|  null|Cancelled|    Diego|     M|           56|   Mckee|  null| paid|Phoenix-Mesa-Scot...|   GET|Cancellation Conf...|1537167593000|      540|null|   200|1539033046000|\"Mozilla/5.0 (iPh...|    32|\n",
      "|  null|Cancelled|    Mason|     M|           10|    Hart|  null| free|  Corpus Christi, TX|   GET|Cancellation Conf...|1533157139000|      174|null|   200|1539318918000|\"Mozilla/5.0 (Mac...|   125|\n",
      "|  null|Cancelled|Alexander|     M|          332|  Garcia|  null| paid|Indianapolis-Carm...|   GET|Cancellation Conf...|1536817381000|      508|null|   200|1539375441000|Mozilla/5.0 (Wind...|   105|\n",
      "|  null|Cancelled|    Kayla|     F|          273| Johnson|  null| paid|Philadelphia-Camd...|   GET|Cancellation Conf...|1538333829000|      797|null|   200|1539465584000|Mozilla/5.0 (Wind...|    17|\n",
      "+------+---------+---------+------+-------------+--------+------+-----+--------------------+------+--------------------+-------------+---------+----+------+-------------+--------------------+------+\n",
      "only showing top 5 rows\n",
      "\n"
     ]
    }
   ],
   "source": [
    "# Churn definition: We define churner using the Cancellation Confirmation events\n",
    "\n",
    "# Before adding the churn column let's have a look at a user's journey who cancelled \n",
    "df_valid.filter(\"page = 'Cancellation Confirmation'\").show(5)"
   ]
  },
  {
   "cell_type": "code",
   "execution_count": 17,
   "metadata": {},
   "outputs": [
    {
     "data": {
      "text/plain": [
       "[Row(userId='32', firstname='Diego', page='NextSong', sessionId=218, level='free', song='Beyond The Beyond (Instrumental)'),\n",
       " Row(userId='32', firstname='Diego', page='NextSong', sessionId=218, level='free', song='Paradise City'),\n",
       " Row(userId='32', firstname='Diego', page='NextSong', sessionId=218, level='free', song='Alejandro'),\n",
       " Row(userId='32', firstname='Diego', page='Roll Advert', sessionId=218, level='free', song=None),\n",
       " Row(userId='32', firstname='Diego', page='NextSong', sessionId=218, level='free', song='Luv U Better'),\n",
       " Row(userId='32', firstname='Diego', page='Thumbs Up', sessionId=218, level='free', song=None),\n",
       " Row(userId='32', firstname='Diego', page='NextSong', sessionId=218, level='free', song='My Life Would Suck Without You'),\n",
       " Row(userId='32', firstname='Diego', page='Add to Playlist', sessionId=218, level='free', song=None),\n",
       " Row(userId='32', firstname='Diego', page='NextSong', sessionId=218, level='free', song='Jamaica Roots II(Agora E Sempre)'),\n",
       " Row(userId='32', firstname='Diego', page='NextSong', sessionId=218, level='free', song='Dusk'),\n",
       " Row(userId='32', firstname='Diego', page='NextSong', sessionId=218, level='free', song='September'),\n",
       " Row(userId='32', firstname='Diego', page='NextSong', sessionId=218, level='free', song='Slicker Than Your Average'),\n",
       " Row(userId='32', firstname='Diego', page='NextSong', sessionId=218, level='free', song='Mellow Mood'),\n",
       " Row(userId='32', firstname='Diego', page='NextSong', sessionId=218, level='free', song='Dangerously In Love'),\n",
       " Row(userId='32', firstname='Diego', page='NextSong', sessionId=218, level='free', song='Fix You'),\n",
       " Row(userId='32', firstname='Diego', page='NextSong', sessionId=218, level='free', song='Morder'),\n",
       " Row(userId='32', firstname='Diego', page='Roll Advert', sessionId=218, level='free', song=None),\n",
       " Row(userId='32', firstname='Diego', page='Logout', sessionId=218, level='free', song=None),\n",
       " Row(userId='32', firstname='Diego', page='Home', sessionId=218, level='free', song=None),\n",
       " Row(userId='32', firstname='Diego', page='NextSong', sessionId=218, level='free', song='If I Knew Then (What I Know Now)'),\n",
       " Row(userId='32', firstname='Diego', page='NextSong', sessionId=218, level='free', song='Goodbye Hollywood'),\n",
       " Row(userId='32', firstname='Diego', page='NextSong', sessionId=218, level='free', song='Come Back Home'),\n",
       " Row(userId='32', firstname='Diego', page='Add to Playlist', sessionId=218, level='free', song=None),\n",
       " Row(userId='32', firstname='Diego', page='NextSong', sessionId=218, level='free', song='Parallel Universe (Album Version)'),\n",
       " Row(userId='32', firstname='Diego', page='NextSong', sessionId=218, level='free', song='After Party'),\n",
       " Row(userId='32', firstname='Diego', page='Add to Playlist', sessionId=218, level='free', song=None),\n",
       " Row(userId='32', firstname='Diego', page='NextSong', sessionId=218, level='free', song='Un poco mas'),\n",
       " Row(userId='32', firstname='Diego', page='NextSong', sessionId=218, level='free', song='Who Gave The Order'),\n",
       " Row(userId='32', firstname='Diego', page='NextSong', sessionId=218, level='free', song='I Gotta Feeling'),\n",
       " Row(userId='32', firstname='Diego', page='NextSong', sessionId=218, level='free', song='Sure Thing Falling'),\n",
       " Row(userId='32', firstname='Diego', page='NextSong', sessionId=218, level='free', song='Ganas De Ti (Album Version)'),\n",
       " Row(userId='32', firstname='Diego', page='Thumbs Up', sessionId=218, level='free', song=None),\n",
       " Row(userId='32', firstname='Diego', page='NextSong', sessionId=218, level='free', song='The Safe Side'),\n",
       " Row(userId='32', firstname='Diego', page='NextSong', sessionId=218, level='free', song='Hillbilly Rock'),\n",
       " Row(userId='32', firstname='Diego', page='NextSong', sessionId=404, level='free', song='Unicorn Vs. Gravity'),\n",
       " Row(userId='32', firstname='Diego', page='Add to Playlist', sessionId=404, level='free', song=None),\n",
       " Row(userId='32', firstname='Diego', page='NextSong', sessionId=404, level='free', song='Fields of Gold'),\n",
       " Row(userId='32', firstname='Diego', page='NextSong', sessionId=404, level='free', song='The Once Lost Returns'),\n",
       " Row(userId='32', firstname='Diego', page='NextSong', sessionId=404, level='free', song='Beautiful_ Dirty_ Rich'),\n",
       " Row(userId='32', firstname='Diego', page='NextSong', sessionId=404, level='free', song='Without Fear'),\n",
       " Row(userId='32', firstname='Diego', page='NextSong', sessionId=404, level='free', song='Fisher Of Men'),\n",
       " Row(userId='32', firstname='Diego', page='Thumbs Up', sessionId=404, level='free', song=None),\n",
       " Row(userId='32', firstname='Diego', page='NextSong', sessionId=404, level='free', song=\"I Don't Want To Hear Any More\"),\n",
       " Row(userId='32', firstname='Diego', page='NextSong', sessionId=404, level='free', song='Rising Moon'),\n",
       " Row(userId='32', firstname='Diego', page='NextSong', sessionId=404, level='free', song='Capable Girl'),\n",
       " Row(userId='32', firstname='Diego', page='NextSong', sessionId=404, level='free', song='Am I High (Feat. Malice)'),\n",
       " Row(userId='32', firstname='Diego', page='NextSong', sessionId=404, level='free', song='Mockingbird'),\n",
       " Row(userId='32', firstname='Diego', page='NextSong', sessionId=404, level='free', song='Yeah!'),\n",
       " Row(userId='32', firstname='Diego', page='Thumbs Up', sessionId=404, level='free', song=None),\n",
       " Row(userId='32', firstname='Diego', page='NextSong', sessionId=404, level='free', song='Who Knows Who Cares'),\n",
       " Row(userId='32', firstname='Diego', page='Thumbs Up', sessionId=404, level='free', song=None),\n",
       " Row(userId='32', firstname='Diego', page='NextSong', sessionId=540, level='free', song=\"Road Trippin' (Album Version)\"),\n",
       " Row(userId='32', firstname='Diego', page='NextSong', sessionId=540, level='free', song='Far Far'),\n",
       " Row(userId='32', firstname='Diego', page='NextSong', sessionId=540, level='free', song='Nothing Left (Album Version)'),\n",
       " Row(userId='32', firstname='Diego', page='NextSong', sessionId=540, level='free', song='For Once In My Life (Album Version)'),\n",
       " Row(userId='32', firstname='Diego', page='Roll Advert', sessionId=540, level='free', song=None),\n",
       " Row(userId='32', firstname='Diego', page='NextSong', sessionId=540, level='free', song='Tive Sim'),\n",
       " Row(userId='32', firstname='Diego', page='NextSong', sessionId=540, level='free', song='EMCEE Murdah'),\n",
       " Row(userId='32', firstname='Diego', page='NextSong', sessionId=540, level='free', song='Space (I Believe In)'),\n",
       " Row(userId='32', firstname='Diego', page='NextSong', sessionId=540, level='free', song='Southern State'),\n",
       " Row(userId='32', firstname='Diego', page='NextSong', sessionId=540, level='free', song='Rock The Casbah'),\n",
       " Row(userId='32', firstname='Diego', page='Upgrade', sessionId=540, level='free', song=None),\n",
       " Row(userId='32', firstname='Diego', page='Submit Upgrade', sessionId=540, level='free', song=None),\n",
       " Row(userId='32', firstname='Diego', page='Home', sessionId=540, level='paid', song=None),\n",
       " Row(userId='32', firstname='Diego', page='NextSong', sessionId=540, level='paid', song='Greece 2000'),\n",
       " Row(userId='32', firstname='Diego', page='NextSong', sessionId=540, level='paid', song='Hey_ Soul Sister'),\n",
       " Row(userId='32', firstname='Diego', page='NextSong', sessionId=540, level='paid', song=\"My Ropin' Days Are Done\"),\n",
       " Row(userId='32', firstname='Diego', page='NextSong', sessionId=540, level='paid', song='Russia Privjet'),\n",
       " Row(userId='32', firstname='Diego', page='NextSong', sessionId=540, level='paid', song='Pop Into My Heart'),\n",
       " Row(userId='32', firstname='Diego', page='NextSong', sessionId=540, level='paid', song='Werewolf Women Of The SS (Album Version)'),\n",
       " Row(userId='32', firstname='Diego', page='NextSong', sessionId=540, level='paid', song='Heartbreak Warfare'),\n",
       " Row(userId='32', firstname='Diego', page='NextSong', sessionId=540, level='paid', song='Big Idea'),\n",
       " Row(userId='32', firstname='Diego', page='NextSong', sessionId=540, level='paid', song='Here (In Your Arms) (Radio Edit)'),\n",
       " Row(userId='32', firstname='Diego', page='NextSong', sessionId=540, level='paid', song=\"Moar Ghosts 'n' Stuff\"),\n",
       " Row(userId='32', firstname='Diego', page='NextSong', sessionId=540, level='paid', song='The Best Day'),\n",
       " Row(userId='32', firstname='Diego', page='NextSong', sessionId=540, level='paid', song='Orange TrÃ\\x83Â¤gt Nur Die MÃ\\x83Â¼llabfuhr (Go West)'),\n",
       " Row(userId='32', firstname='Diego', page='NextSong', sessionId=540, level='paid', song='Clint Eastwood (Explicit)'),\n",
       " Row(userId='32', firstname='Diego', page='NextSong', sessionId=540, level='paid', song='O Raaje'),\n",
       " Row(userId='32', firstname='Diego', page='NextSong', sessionId=540, level='paid', song=\"It's My Life\"),\n",
       " Row(userId='32', firstname='Diego', page='Thumbs Up', sessionId=540, level='paid', song=None),\n",
       " Row(userId='32', firstname='Diego', page='NextSong', sessionId=540, level='paid', song='Mojo'),\n",
       " Row(userId='32', firstname='Diego', page='NextSong', sessionId=540, level='paid', song='Baby Let Me Take You Home'),\n",
       " Row(userId='32', firstname='Diego', page='NextSong', sessionId=540, level='paid', song='Balaclava'),\n",
       " Row(userId='32', firstname='Diego', page='Thumbs Down', sessionId=540, level='paid', song=None),\n",
       " Row(userId='32', firstname='Diego', page='NextSong', sessionId=540, level='paid', song='Prelude To A Dream'),\n",
       " Row(userId='32', firstname='Diego', page='Add to Playlist', sessionId=540, level='paid', song=None),\n",
       " Row(userId='32', firstname='Diego', page='NextSong', sessionId=540, level='paid', song='Sympathy For The Devil'),\n",
       " Row(userId='32', firstname='Diego', page='NextSong', sessionId=540, level='paid', song='Jerk It Out (Original Mix)'),\n",
       " Row(userId='32', firstname='Diego', page='NextSong', sessionId=540, level='paid', song='All Alone'),\n",
       " Row(userId='32', firstname='Diego', page='Thumbs Up', sessionId=540, level='paid', song=None),\n",
       " Row(userId='32', firstname='Diego', page='Add to Playlist', sessionId=540, level='paid', song=None),\n",
       " Row(userId='32', firstname='Diego', page='NextSong', sessionId=540, level='paid', song='Sandstorm'),\n",
       " Row(userId='32', firstname='Diego', page='Downgrade', sessionId=540, level='paid', song=None),\n",
       " Row(userId='32', firstname='Diego', page='Home', sessionId=540, level='paid', song=None),\n",
       " Row(userId='32', firstname='Diego', page='NextSong', sessionId=540, level='paid', song='Long Arm Of The Law'),\n",
       " Row(userId='32', firstname='Diego', page='NextSong', sessionId=540, level='paid', song='Wishing Well'),\n",
       " Row(userId='32', firstname='Diego', page='Add to Playlist', sessionId=540, level='paid', song=None),\n",
       " Row(userId='32', firstname='Diego', page='NextSong', sessionId=540, level='paid', song=\"It's Just Like Surgery\"),\n",
       " Row(userId='32', firstname='Diego', page='NextSong', sessionId=540, level='paid', song='Sentimental Street'),\n",
       " Row(userId='32', firstname='Diego', page='NextSong', sessionId=540, level='paid', song='Come on Closer'),\n",
       " Row(userId='32', firstname='Diego', page='NextSong', sessionId=540, level='paid', song='Undo'),\n",
       " Row(userId='32', firstname='Diego', page='NextSong', sessionId=540, level='paid', song='Electric Fever (Idiotproof remix)'),\n",
       " Row(userId='32', firstname='Diego', page='NextSong', sessionId=540, level='paid', song='Rianna'),\n",
       " Row(userId='32', firstname='Diego', page='NextSong', sessionId=540, level='paid', song=\"I'd Rather Fuck You (Explicit) (Feat. Eazy-E)\"),\n",
       " Row(userId='32', firstname='Diego', page='NextSong', sessionId=540, level='paid', song='Anchor Of My Soul'),\n",
       " Row(userId='32', firstname='Diego', page='Downgrade', sessionId=540, level='paid', song=None),\n",
       " Row(userId='32', firstname='Diego', page='Cancel', sessionId=540, level='paid', song=None),\n",
       " Row(userId='32', firstname='Diego', page='Cancellation Confirmation', sessionId=540, level='paid', song=None)]"
      ]
     },
     "execution_count": 17,
     "metadata": {},
     "output_type": "execute_result"
    }
   ],
   "source": [
    "# Activities of a multiple sessions and paid user who cancelled\n",
    "df_valid.select([\"userId\", \"firstname\", \"page\", \"sessionId\", \"level\", \"song\"]).where(df_valid.userId == \"32\").sort(\"ts\").collect()"
   ]
  },
  {
   "cell_type": "markdown",
   "metadata": {},
   "source": [
    "#### Churn column creation"
   ]
  },
  {
   "cell_type": "code",
   "execution_count": 18,
   "metadata": {},
   "outputs": [],
   "source": [
    "# Create a Churn column to use as the label for your model. \n",
    "# As suggested we use Cancellation Confirmation events to define our churn\n",
    "\n",
    "# Find churners Ids\n",
    "churners = (df_valid.filter(df_valid.page == 'Cancellation Confirmation')\n",
    "                     .select('userId')\n",
    "                     .distinct()\n",
    "                     .rdd.flatMap(lambda row: row)\n",
    "                     .collect())\n",
    "\n",
    "# Churn = 1 if user cancelled/churned 0 otherwise\n",
    "df_valid = df_valid.withColumn('Churn', when(df_valid.userId.isin(churners), 1).otherwise(0))"
   ]
  },
  {
   "cell_type": "code",
   "execution_count": 19,
   "metadata": {},
   "outputs": [
    {
     "data": {
      "text/plain": [
       "23.11111111111111"
      ]
     },
     "execution_count": 19,
     "metadata": {},
     "output_type": "execute_result"
    }
   ],
   "source": [
    "# percentage of churners\n",
    "(len(churners)/df_valid.select('userID').dropDuplicates().count())*100"
   ]
  },
  {
   "cell_type": "code",
   "execution_count": 20,
   "metadata": {},
   "outputs": [
    {
     "data": {
      "text/plain": [
       "[Row(userId='32', firstname='Diego', page='NextSong', sessionId=218, level='free', song='Beyond The Beyond (Instrumental)', Churn=1),\n",
       " Row(userId='32', firstname='Diego', page='NextSong', sessionId=218, level='free', song='Paradise City', Churn=1),\n",
       " Row(userId='32', firstname='Diego', page='NextSong', sessionId=218, level='free', song='Alejandro', Churn=1),\n",
       " Row(userId='32', firstname='Diego', page='Roll Advert', sessionId=218, level='free', song=None, Churn=1),\n",
       " Row(userId='32', firstname='Diego', page='NextSong', sessionId=218, level='free', song='Luv U Better', Churn=1),\n",
       " Row(userId='32', firstname='Diego', page='Thumbs Up', sessionId=218, level='free', song=None, Churn=1),\n",
       " Row(userId='32', firstname='Diego', page='NextSong', sessionId=218, level='free', song='My Life Would Suck Without You', Churn=1),\n",
       " Row(userId='32', firstname='Diego', page='Add to Playlist', sessionId=218, level='free', song=None, Churn=1),\n",
       " Row(userId='32', firstname='Diego', page='NextSong', sessionId=218, level='free', song='Jamaica Roots II(Agora E Sempre)', Churn=1),\n",
       " Row(userId='32', firstname='Diego', page='NextSong', sessionId=218, level='free', song='Dusk', Churn=1),\n",
       " Row(userId='32', firstname='Diego', page='NextSong', sessionId=218, level='free', song='September', Churn=1),\n",
       " Row(userId='32', firstname='Diego', page='NextSong', sessionId=218, level='free', song='Slicker Than Your Average', Churn=1),\n",
       " Row(userId='32', firstname='Diego', page='NextSong', sessionId=218, level='free', song='Mellow Mood', Churn=1),\n",
       " Row(userId='32', firstname='Diego', page='NextSong', sessionId=218, level='free', song='Dangerously In Love', Churn=1),\n",
       " Row(userId='32', firstname='Diego', page='NextSong', sessionId=218, level='free', song='Fix You', Churn=1),\n",
       " Row(userId='32', firstname='Diego', page='NextSong', sessionId=218, level='free', song='Morder', Churn=1),\n",
       " Row(userId='32', firstname='Diego', page='Roll Advert', sessionId=218, level='free', song=None, Churn=1),\n",
       " Row(userId='32', firstname='Diego', page='Logout', sessionId=218, level='free', song=None, Churn=1),\n",
       " Row(userId='32', firstname='Diego', page='Home', sessionId=218, level='free', song=None, Churn=1),\n",
       " Row(userId='32', firstname='Diego', page='NextSong', sessionId=218, level='free', song='If I Knew Then (What I Know Now)', Churn=1),\n",
       " Row(userId='32', firstname='Diego', page='NextSong', sessionId=218, level='free', song='Goodbye Hollywood', Churn=1),\n",
       " Row(userId='32', firstname='Diego', page='NextSong', sessionId=218, level='free', song='Come Back Home', Churn=1),\n",
       " Row(userId='32', firstname='Diego', page='Add to Playlist', sessionId=218, level='free', song=None, Churn=1),\n",
       " Row(userId='32', firstname='Diego', page='NextSong', sessionId=218, level='free', song='Parallel Universe (Album Version)', Churn=1),\n",
       " Row(userId='32', firstname='Diego', page='NextSong', sessionId=218, level='free', song='After Party', Churn=1),\n",
       " Row(userId='32', firstname='Diego', page='Add to Playlist', sessionId=218, level='free', song=None, Churn=1),\n",
       " Row(userId='32', firstname='Diego', page='NextSong', sessionId=218, level='free', song='Un poco mas', Churn=1),\n",
       " Row(userId='32', firstname='Diego', page='NextSong', sessionId=218, level='free', song='Who Gave The Order', Churn=1),\n",
       " Row(userId='32', firstname='Diego', page='NextSong', sessionId=218, level='free', song='I Gotta Feeling', Churn=1),\n",
       " Row(userId='32', firstname='Diego', page='NextSong', sessionId=218, level='free', song='Sure Thing Falling', Churn=1),\n",
       " Row(userId='32', firstname='Diego', page='NextSong', sessionId=218, level='free', song='Ganas De Ti (Album Version)', Churn=1),\n",
       " Row(userId='32', firstname='Diego', page='Thumbs Up', sessionId=218, level='free', song=None, Churn=1),\n",
       " Row(userId='32', firstname='Diego', page='NextSong', sessionId=218, level='free', song='The Safe Side', Churn=1),\n",
       " Row(userId='32', firstname='Diego', page='NextSong', sessionId=218, level='free', song='Hillbilly Rock', Churn=1),\n",
       " Row(userId='32', firstname='Diego', page='NextSong', sessionId=404, level='free', song='Unicorn Vs. Gravity', Churn=1),\n",
       " Row(userId='32', firstname='Diego', page='Add to Playlist', sessionId=404, level='free', song=None, Churn=1),\n",
       " Row(userId='32', firstname='Diego', page='NextSong', sessionId=404, level='free', song='Fields of Gold', Churn=1),\n",
       " Row(userId='32', firstname='Diego', page='NextSong', sessionId=404, level='free', song='The Once Lost Returns', Churn=1),\n",
       " Row(userId='32', firstname='Diego', page='NextSong', sessionId=404, level='free', song='Beautiful_ Dirty_ Rich', Churn=1),\n",
       " Row(userId='32', firstname='Diego', page='NextSong', sessionId=404, level='free', song='Without Fear', Churn=1),\n",
       " Row(userId='32', firstname='Diego', page='NextSong', sessionId=404, level='free', song='Fisher Of Men', Churn=1),\n",
       " Row(userId='32', firstname='Diego', page='Thumbs Up', sessionId=404, level='free', song=None, Churn=1),\n",
       " Row(userId='32', firstname='Diego', page='NextSong', sessionId=404, level='free', song=\"I Don't Want To Hear Any More\", Churn=1),\n",
       " Row(userId='32', firstname='Diego', page='NextSong', sessionId=404, level='free', song='Rising Moon', Churn=1),\n",
       " Row(userId='32', firstname='Diego', page='NextSong', sessionId=404, level='free', song='Capable Girl', Churn=1),\n",
       " Row(userId='32', firstname='Diego', page='NextSong', sessionId=404, level='free', song='Am I High (Feat. Malice)', Churn=1),\n",
       " Row(userId='32', firstname='Diego', page='NextSong', sessionId=404, level='free', song='Mockingbird', Churn=1),\n",
       " Row(userId='32', firstname='Diego', page='NextSong', sessionId=404, level='free', song='Yeah!', Churn=1),\n",
       " Row(userId='32', firstname='Diego', page='Thumbs Up', sessionId=404, level='free', song=None, Churn=1),\n",
       " Row(userId='32', firstname='Diego', page='NextSong', sessionId=404, level='free', song='Who Knows Who Cares', Churn=1),\n",
       " Row(userId='32', firstname='Diego', page='Thumbs Up', sessionId=404, level='free', song=None, Churn=1),\n",
       " Row(userId='32', firstname='Diego', page='NextSong', sessionId=540, level='free', song=\"Road Trippin' (Album Version)\", Churn=1),\n",
       " Row(userId='32', firstname='Diego', page='NextSong', sessionId=540, level='free', song='Far Far', Churn=1),\n",
       " Row(userId='32', firstname='Diego', page='NextSong', sessionId=540, level='free', song='Nothing Left (Album Version)', Churn=1),\n",
       " Row(userId='32', firstname='Diego', page='NextSong', sessionId=540, level='free', song='For Once In My Life (Album Version)', Churn=1),\n",
       " Row(userId='32', firstname='Diego', page='Roll Advert', sessionId=540, level='free', song=None, Churn=1),\n",
       " Row(userId='32', firstname='Diego', page='NextSong', sessionId=540, level='free', song='Tive Sim', Churn=1),\n",
       " Row(userId='32', firstname='Diego', page='NextSong', sessionId=540, level='free', song='EMCEE Murdah', Churn=1),\n",
       " Row(userId='32', firstname='Diego', page='NextSong', sessionId=540, level='free', song='Space (I Believe In)', Churn=1),\n",
       " Row(userId='32', firstname='Diego', page='NextSong', sessionId=540, level='free', song='Southern State', Churn=1),\n",
       " Row(userId='32', firstname='Diego', page='NextSong', sessionId=540, level='free', song='Rock The Casbah', Churn=1),\n",
       " Row(userId='32', firstname='Diego', page='Upgrade', sessionId=540, level='free', song=None, Churn=1),\n",
       " Row(userId='32', firstname='Diego', page='Submit Upgrade', sessionId=540, level='free', song=None, Churn=1),\n",
       " Row(userId='32', firstname='Diego', page='Home', sessionId=540, level='paid', song=None, Churn=1),\n",
       " Row(userId='32', firstname='Diego', page='NextSong', sessionId=540, level='paid', song='Greece 2000', Churn=1),\n",
       " Row(userId='32', firstname='Diego', page='NextSong', sessionId=540, level='paid', song='Hey_ Soul Sister', Churn=1),\n",
       " Row(userId='32', firstname='Diego', page='NextSong', sessionId=540, level='paid', song=\"My Ropin' Days Are Done\", Churn=1),\n",
       " Row(userId='32', firstname='Diego', page='NextSong', sessionId=540, level='paid', song='Russia Privjet', Churn=1),\n",
       " Row(userId='32', firstname='Diego', page='NextSong', sessionId=540, level='paid', song='Pop Into My Heart', Churn=1),\n",
       " Row(userId='32', firstname='Diego', page='NextSong', sessionId=540, level='paid', song='Werewolf Women Of The SS (Album Version)', Churn=1),\n",
       " Row(userId='32', firstname='Diego', page='NextSong', sessionId=540, level='paid', song='Heartbreak Warfare', Churn=1),\n",
       " Row(userId='32', firstname='Diego', page='NextSong', sessionId=540, level='paid', song='Big Idea', Churn=1),\n",
       " Row(userId='32', firstname='Diego', page='NextSong', sessionId=540, level='paid', song='Here (In Your Arms) (Radio Edit)', Churn=1),\n",
       " Row(userId='32', firstname='Diego', page='NextSong', sessionId=540, level='paid', song=\"Moar Ghosts 'n' Stuff\", Churn=1),\n",
       " Row(userId='32', firstname='Diego', page='NextSong', sessionId=540, level='paid', song='The Best Day', Churn=1),\n",
       " Row(userId='32', firstname='Diego', page='NextSong', sessionId=540, level='paid', song='Orange TrÃ\\x83Â¤gt Nur Die MÃ\\x83Â¼llabfuhr (Go West)', Churn=1),\n",
       " Row(userId='32', firstname='Diego', page='NextSong', sessionId=540, level='paid', song='Clint Eastwood (Explicit)', Churn=1),\n",
       " Row(userId='32', firstname='Diego', page='NextSong', sessionId=540, level='paid', song='O Raaje', Churn=1),\n",
       " Row(userId='32', firstname='Diego', page='NextSong', sessionId=540, level='paid', song=\"It's My Life\", Churn=1),\n",
       " Row(userId='32', firstname='Diego', page='Thumbs Up', sessionId=540, level='paid', song=None, Churn=1),\n",
       " Row(userId='32', firstname='Diego', page='NextSong', sessionId=540, level='paid', song='Mojo', Churn=1),\n",
       " Row(userId='32', firstname='Diego', page='NextSong', sessionId=540, level='paid', song='Baby Let Me Take You Home', Churn=1),\n",
       " Row(userId='32', firstname='Diego', page='NextSong', sessionId=540, level='paid', song='Balaclava', Churn=1),\n",
       " Row(userId='32', firstname='Diego', page='Thumbs Down', sessionId=540, level='paid', song=None, Churn=1),\n",
       " Row(userId='32', firstname='Diego', page='NextSong', sessionId=540, level='paid', song='Prelude To A Dream', Churn=1),\n",
       " Row(userId='32', firstname='Diego', page='Add to Playlist', sessionId=540, level='paid', song=None, Churn=1),\n",
       " Row(userId='32', firstname='Diego', page='NextSong', sessionId=540, level='paid', song='Sympathy For The Devil', Churn=1),\n",
       " Row(userId='32', firstname='Diego', page='NextSong', sessionId=540, level='paid', song='Jerk It Out (Original Mix)', Churn=1),\n",
       " Row(userId='32', firstname='Diego', page='NextSong', sessionId=540, level='paid', song='All Alone', Churn=1),\n",
       " Row(userId='32', firstname='Diego', page='Thumbs Up', sessionId=540, level='paid', song=None, Churn=1),\n",
       " Row(userId='32', firstname='Diego', page='Add to Playlist', sessionId=540, level='paid', song=None, Churn=1),\n",
       " Row(userId='32', firstname='Diego', page='NextSong', sessionId=540, level='paid', song='Sandstorm', Churn=1),\n",
       " Row(userId='32', firstname='Diego', page='Downgrade', sessionId=540, level='paid', song=None, Churn=1),\n",
       " Row(userId='32', firstname='Diego', page='Home', sessionId=540, level='paid', song=None, Churn=1),\n",
       " Row(userId='32', firstname='Diego', page='NextSong', sessionId=540, level='paid', song='Long Arm Of The Law', Churn=1),\n",
       " Row(userId='32', firstname='Diego', page='NextSong', sessionId=540, level='paid', song='Wishing Well', Churn=1),\n",
       " Row(userId='32', firstname='Diego', page='Add to Playlist', sessionId=540, level='paid', song=None, Churn=1),\n",
       " Row(userId='32', firstname='Diego', page='NextSong', sessionId=540, level='paid', song=\"It's Just Like Surgery\", Churn=1),\n",
       " Row(userId='32', firstname='Diego', page='NextSong', sessionId=540, level='paid', song='Sentimental Street', Churn=1),\n",
       " Row(userId='32', firstname='Diego', page='NextSong', sessionId=540, level='paid', song='Come on Closer', Churn=1),\n",
       " Row(userId='32', firstname='Diego', page='NextSong', sessionId=540, level='paid', song='Undo', Churn=1),\n",
       " Row(userId='32', firstname='Diego', page='NextSong', sessionId=540, level='paid', song='Electric Fever (Idiotproof remix)', Churn=1),\n",
       " Row(userId='32', firstname='Diego', page='NextSong', sessionId=540, level='paid', song='Rianna', Churn=1),\n",
       " Row(userId='32', firstname='Diego', page='NextSong', sessionId=540, level='paid', song=\"I'd Rather Fuck You (Explicit) (Feat. Eazy-E)\", Churn=1),\n",
       " Row(userId='32', firstname='Diego', page='NextSong', sessionId=540, level='paid', song='Anchor Of My Soul', Churn=1),\n",
       " Row(userId='32', firstname='Diego', page='Downgrade', sessionId=540, level='paid', song=None, Churn=1),\n",
       " Row(userId='32', firstname='Diego', page='Cancel', sessionId=540, level='paid', song=None, Churn=1),\n",
       " Row(userId='32', firstname='Diego', page='Cancellation Confirmation', sessionId=540, level='paid', song=None, Churn=1)]"
      ]
     },
     "execution_count": 20,
     "metadata": {},
     "output_type": "execute_result"
    }
   ],
   "source": [
    "# check again our userId==18\n",
    "df_valid.select([\"userId\", \"firstname\", \"page\", \"sessionId\", \"level\", \"song\", \"Churn\"]).where(df_valid.userId == \"32\").sort(\"ts\").collect()"
   ]
  },
  {
   "cell_type": "markdown",
   "metadata": {},
   "source": [
    "### Explore Data\n",
    "Once you've defined churn, perform some exploratory data analysis to **observe the behavior for users who stayed vs users who churned**. You can start by exploring aggregates on these two groups of users, observing how much of a specific action they experienced per a certain time unit or number of songs played."
   ]
  },
  {
   "cell_type": "code",
   "execution_count": 21,
   "metadata": {},
   "outputs": [
    {
     "name": "stdout",
     "output_type": "stream",
     "text": [
      "+-----+----------------------+\n",
      "|Churn|count(DISTINCT userId)|\n",
      "+-----+----------------------+\n",
      "|    1|                    52|\n",
      "|    0|                   173|\n",
      "+-----+----------------------+\n",
      "\n"
     ]
    }
   ],
   "source": [
    "user_count = df_valid.groupby('Churn').agg(countDistinct('userId'))\n",
    "user_count.show()"
   ]
  },
  {
   "cell_type": "code",
   "execution_count": 22,
   "metadata": {},
   "outputs": [
    {
     "name": "stdout",
     "output_type": "stream",
     "text": [
      "+-----+------+----------------------+\n",
      "|Churn|gender|count(DISTINCT userId)|\n",
      "+-----+------+----------------------+\n",
      "|    1|     F|                    20|\n",
      "|    0|     M|                    89|\n",
      "|    1|     M|                    32|\n",
      "|    0|     F|                    84|\n",
      "+-----+------+----------------------+\n",
      "\n"
     ]
    }
   ],
   "source": [
    "# Explore Gender distribution\n",
    "(df_valid.groupby('Churn', 'gender').agg(countDistinct('userId')).show())"
   ]
  },
  {
   "cell_type": "code",
   "execution_count": 23,
   "metadata": {},
   "outputs": [
    {
     "name": "stdout",
     "output_type": "stream",
     "text": [
      "+-----+-----+----------------------+\n",
      "|Churn|level|count(DISTINCT userId)|\n",
      "+-----+-----+----------------------+\n",
      "|    0| free|                   149|\n",
      "|    0| paid|                   129|\n",
      "|    1| paid|                    36|\n",
      "|    1| free|                    46|\n",
      "+-----+-----+----------------------+\n",
      "\n"
     ]
    }
   ],
   "source": [
    "# Explore level distribution\n",
    "(df_valid.groupby('Churn', 'level').agg(countDistinct('userId')).show())"
   ]
  },
  {
   "cell_type": "markdown",
   "metadata": {},
   "source": [
    "_Note that some users can switch from free to paid and inversely from paid to free:_"
   ]
  },
  {
   "cell_type": "code",
   "execution_count": 24,
   "metadata": {},
   "outputs": [
    {
     "data": {
      "text/plain": [
       "135"
      ]
     },
     "execution_count": 24,
     "metadata": {},
     "output_type": "execute_result"
    }
   ],
   "source": [
    "free = df_valid.filter(df_valid.level == 'free').select('userId').dropDuplicates()\n",
    "paid = df_valid.filter(df_valid.level == 'paid').select('userId').dropDuplicates()\n",
    "#find intersection of free and paid to get users who had both levels\n",
    "inter = free.select('userId').intersect(paid.select('userId')) \n",
    "inter.count()\n",
    "# looking at the table above we have 149+129+36+46=360, we should then get 360 - 225 = 135 users who had both statuses"
   ]
  },
  {
   "cell_type": "code",
   "execution_count": 25,
   "metadata": {},
   "outputs": [
    {
     "name": "stdout",
     "output_type": "stream",
     "text": [
      "+-----+----------------------+\n",
      "|Churn|count(DISTINCT userId)|\n",
      "+-----+----------------------+\n",
      "|    1|                    30|\n",
      "|    0|                   105|\n",
      "+-----+----------------------+\n",
      "\n"
     ]
    }
   ],
   "source": [
    "# create list\n",
    "inter_list = inter.select('userId').rdd.flatMap(lambda row: row).collect()\n",
    "# look at churn for these users who switched level\n",
    "df_valid.filter(df_valid.userId.isin(inter_list)).groupby('Churn').agg(countDistinct('userId')).show()"
   ]
  },
  {
   "cell_type": "code",
   "execution_count": 26,
   "metadata": {},
   "outputs": [
    {
     "data": {
      "text/html": [
       "<div>\n",
       "<style scoped>\n",
       "    .dataframe tbody tr th:only-of-type {\n",
       "        vertical-align: middle;\n",
       "    }\n",
       "\n",
       "    .dataframe tbody tr th {\n",
       "        vertical-align: top;\n",
       "    }\n",
       "\n",
       "    .dataframe thead th {\n",
       "        text-align: right;\n",
       "    }\n",
       "</style>\n",
       "<table border=\"1\" class=\"dataframe\">\n",
       "  <thead>\n",
       "    <tr style=\"text-align: right;\">\n",
       "      <th></th>\n",
       "      <th>userId</th>\n",
       "      <th>About</th>\n",
       "      <th>Add Friend</th>\n",
       "      <th>Add to Playlist</th>\n",
       "      <th>Cancel</th>\n",
       "      <th>Cancellation Confirmation</th>\n",
       "      <th>Downgrade</th>\n",
       "      <th>Error</th>\n",
       "      <th>Help</th>\n",
       "      <th>Home</th>\n",
       "      <th>Logout</th>\n",
       "      <th>NextSong</th>\n",
       "      <th>Roll Advert</th>\n",
       "      <th>Save Settings</th>\n",
       "      <th>Settings</th>\n",
       "      <th>Submit Downgrade</th>\n",
       "      <th>Submit Upgrade</th>\n",
       "      <th>Thumbs Down</th>\n",
       "      <th>Thumbs Up</th>\n",
       "      <th>Upgrade</th>\n",
       "    </tr>\n",
       "  </thead>\n",
       "  <tbody>\n",
       "    <tr>\n",
       "      <th>0</th>\n",
       "      <td>200002</td>\n",
       "      <td>3</td>\n",
       "      <td>4</td>\n",
       "      <td>8</td>\n",
       "      <td>0</td>\n",
       "      <td>0</td>\n",
       "      <td>5</td>\n",
       "      <td>0</td>\n",
       "      <td>2</td>\n",
       "      <td>20</td>\n",
       "      <td>5</td>\n",
       "      <td>387</td>\n",
       "      <td>7</td>\n",
       "      <td>0</td>\n",
       "      <td>3</td>\n",
       "      <td>0</td>\n",
       "      <td>1</td>\n",
       "      <td>6</td>\n",
       "      <td>21</td>\n",
       "      <td>2</td>\n",
       "    </tr>\n",
       "    <tr>\n",
       "      <th>1</th>\n",
       "      <td>100010</td>\n",
       "      <td>1</td>\n",
       "      <td>4</td>\n",
       "      <td>7</td>\n",
       "      <td>0</td>\n",
       "      <td>0</td>\n",
       "      <td>0</td>\n",
       "      <td>0</td>\n",
       "      <td>2</td>\n",
       "      <td>11</td>\n",
       "      <td>5</td>\n",
       "      <td>275</td>\n",
       "      <td>52</td>\n",
       "      <td>0</td>\n",
       "      <td>0</td>\n",
       "      <td>0</td>\n",
       "      <td>0</td>\n",
       "      <td>5</td>\n",
       "      <td>17</td>\n",
       "      <td>2</td>\n",
       "    </tr>\n",
       "    <tr>\n",
       "      <th>2</th>\n",
       "      <td>125</td>\n",
       "      <td>0</td>\n",
       "      <td>0</td>\n",
       "      <td>0</td>\n",
       "      <td>1</td>\n",
       "      <td>1</td>\n",
       "      <td>0</td>\n",
       "      <td>0</td>\n",
       "      <td>0</td>\n",
       "      <td>0</td>\n",
       "      <td>0</td>\n",
       "      <td>8</td>\n",
       "      <td>1</td>\n",
       "      <td>0</td>\n",
       "      <td>0</td>\n",
       "      <td>0</td>\n",
       "      <td>0</td>\n",
       "      <td>0</td>\n",
       "      <td>0</td>\n",
       "      <td>0</td>\n",
       "    </tr>\n",
       "    <tr>\n",
       "      <th>3</th>\n",
       "      <td>51</td>\n",
       "      <td>2</td>\n",
       "      <td>28</td>\n",
       "      <td>52</td>\n",
       "      <td>1</td>\n",
       "      <td>1</td>\n",
       "      <td>23</td>\n",
       "      <td>1</td>\n",
       "      <td>12</td>\n",
       "      <td>75</td>\n",
       "      <td>24</td>\n",
       "      <td>2111</td>\n",
       "      <td>0</td>\n",
       "      <td>1</td>\n",
       "      <td>12</td>\n",
       "      <td>0</td>\n",
       "      <td>0</td>\n",
       "      <td>21</td>\n",
       "      <td>100</td>\n",
       "      <td>0</td>\n",
       "    </tr>\n",
       "    <tr>\n",
       "      <th>4</th>\n",
       "      <td>124</td>\n",
       "      <td>7</td>\n",
       "      <td>74</td>\n",
       "      <td>118</td>\n",
       "      <td>0</td>\n",
       "      <td>0</td>\n",
       "      <td>41</td>\n",
       "      <td>6</td>\n",
       "      <td>23</td>\n",
       "      <td>176</td>\n",
       "      <td>59</td>\n",
       "      <td>4079</td>\n",
       "      <td>4</td>\n",
       "      <td>6</td>\n",
       "      <td>20</td>\n",
       "      <td>0</td>\n",
       "      <td>0</td>\n",
       "      <td>41</td>\n",
       "      <td>171</td>\n",
       "      <td>0</td>\n",
       "    </tr>\n",
       "    <tr>\n",
       "      <th>5</th>\n",
       "      <td>7</td>\n",
       "      <td>0</td>\n",
       "      <td>1</td>\n",
       "      <td>5</td>\n",
       "      <td>0</td>\n",
       "      <td>0</td>\n",
       "      <td>0</td>\n",
       "      <td>1</td>\n",
       "      <td>1</td>\n",
       "      <td>10</td>\n",
       "      <td>3</td>\n",
       "      <td>150</td>\n",
       "      <td>16</td>\n",
       "      <td>1</td>\n",
       "      <td>3</td>\n",
       "      <td>0</td>\n",
       "      <td>0</td>\n",
       "      <td>1</td>\n",
       "      <td>7</td>\n",
       "      <td>2</td>\n",
       "    </tr>\n",
       "    <tr>\n",
       "      <th>6</th>\n",
       "      <td>54</td>\n",
       "      <td>5</td>\n",
       "      <td>33</td>\n",
       "      <td>72</td>\n",
       "      <td>1</td>\n",
       "      <td>1</td>\n",
       "      <td>39</td>\n",
       "      <td>1</td>\n",
       "      <td>17</td>\n",
       "      <td>129</td>\n",
       "      <td>36</td>\n",
       "      <td>2841</td>\n",
       "      <td>47</td>\n",
       "      <td>3</td>\n",
       "      <td>17</td>\n",
       "      <td>1</td>\n",
       "      <td>1</td>\n",
       "      <td>29</td>\n",
       "      <td>163</td>\n",
       "      <td>1</td>\n",
       "    </tr>\n",
       "    <tr>\n",
       "      <th>7</th>\n",
       "      <td>15</td>\n",
       "      <td>2</td>\n",
       "      <td>31</td>\n",
       "      <td>59</td>\n",
       "      <td>0</td>\n",
       "      <td>0</td>\n",
       "      <td>28</td>\n",
       "      <td>2</td>\n",
       "      <td>8</td>\n",
       "      <td>93</td>\n",
       "      <td>27</td>\n",
       "      <td>1914</td>\n",
       "      <td>1</td>\n",
       "      <td>2</td>\n",
       "      <td>16</td>\n",
       "      <td>0</td>\n",
       "      <td>0</td>\n",
       "      <td>14</td>\n",
       "      <td>81</td>\n",
       "      <td>0</td>\n",
       "    </tr>\n",
       "    <tr>\n",
       "      <th>8</th>\n",
       "      <td>155</td>\n",
       "      <td>2</td>\n",
       "      <td>11</td>\n",
       "      <td>24</td>\n",
       "      <td>0</td>\n",
       "      <td>0</td>\n",
       "      <td>12</td>\n",
       "      <td>3</td>\n",
       "      <td>9</td>\n",
       "      <td>30</td>\n",
       "      <td>14</td>\n",
       "      <td>820</td>\n",
       "      <td>8</td>\n",
       "      <td>0</td>\n",
       "      <td>5</td>\n",
       "      <td>0</td>\n",
       "      <td>1</td>\n",
       "      <td>3</td>\n",
       "      <td>58</td>\n",
       "      <td>2</td>\n",
       "    </tr>\n",
       "    <tr>\n",
       "      <th>9</th>\n",
       "      <td>132</td>\n",
       "      <td>4</td>\n",
       "      <td>41</td>\n",
       "      <td>38</td>\n",
       "      <td>0</td>\n",
       "      <td>0</td>\n",
       "      <td>19</td>\n",
       "      <td>3</td>\n",
       "      <td>16</td>\n",
       "      <td>83</td>\n",
       "      <td>34</td>\n",
       "      <td>1928</td>\n",
       "      <td>2</td>\n",
       "      <td>4</td>\n",
       "      <td>17</td>\n",
       "      <td>0</td>\n",
       "      <td>1</td>\n",
       "      <td>17</td>\n",
       "      <td>96</td>\n",
       "      <td>1</td>\n",
       "    </tr>\n",
       "  </tbody>\n",
       "</table>\n",
       "</div>"
      ],
      "text/plain": [
       "   userId  About  Add Friend  Add to Playlist  Cancel  \\\n",
       "0  200002      3           4                8       0   \n",
       "1  100010      1           4                7       0   \n",
       "2     125      0           0                0       1   \n",
       "3      51      2          28               52       1   \n",
       "4     124      7          74              118       0   \n",
       "5       7      0           1                5       0   \n",
       "6      54      5          33               72       1   \n",
       "7      15      2          31               59       0   \n",
       "8     155      2          11               24       0   \n",
       "9     132      4          41               38       0   \n",
       "\n",
       "   Cancellation Confirmation  Downgrade  Error  Help  Home  Logout  NextSong  \\\n",
       "0                          0          5      0     2    20       5       387   \n",
       "1                          0          0      0     2    11       5       275   \n",
       "2                          1          0      0     0     0       0         8   \n",
       "3                          1         23      1    12    75      24      2111   \n",
       "4                          0         41      6    23   176      59      4079   \n",
       "5                          0          0      1     1    10       3       150   \n",
       "6                          1         39      1    17   129      36      2841   \n",
       "7                          0         28      2     8    93      27      1914   \n",
       "8                          0         12      3     9    30      14       820   \n",
       "9                          0         19      3    16    83      34      1928   \n",
       "\n",
       "   Roll Advert  Save Settings  Settings  Submit Downgrade  Submit Upgrade  \\\n",
       "0            7              0         3                 0               1   \n",
       "1           52              0         0                 0               0   \n",
       "2            1              0         0                 0               0   \n",
       "3            0              1        12                 0               0   \n",
       "4            4              6        20                 0               0   \n",
       "5           16              1         3                 0               0   \n",
       "6           47              3        17                 1               1   \n",
       "7            1              2        16                 0               0   \n",
       "8            8              0         5                 0               1   \n",
       "9            2              4        17                 0               1   \n",
       "\n",
       "   Thumbs Down  Thumbs Up  Upgrade  \n",
       "0            6         21        2  \n",
       "1            5         17        2  \n",
       "2            0          0        0  \n",
       "3           21        100        0  \n",
       "4           41        171        0  \n",
       "5            1          7        2  \n",
       "6           29        163        1  \n",
       "7           14         81        0  \n",
       "8            3         58        2  \n",
       "9           17         96        1  "
      ]
     },
     "execution_count": 26,
     "metadata": {},
     "output_type": "execute_result"
    }
   ],
   "source": [
    "# Actions/events of the 2 groups\n",
    "\n",
    "# pandas df grouped by userID and pivot on pages. We use pandas for visualization\n",
    "# for reshaping with pivot check https://databricks.com/blog/2016/02/09/reshaping-data-with-pivot-in-apache-spark.html\n",
    "dfpd_pages = df_valid.groupby('userId').pivot('page').count().fillna(0).toPandas()\n",
    "dfpd_pages.head(10)"
   ]
  },
  {
   "cell_type": "code",
   "execution_count": 27,
   "metadata": {},
   "outputs": [],
   "source": [
    "# As per our definition, we use Cancellation Confirmation events to define our churners\n",
    "# let's rename this column to Churn\n",
    "dfpd_pages.rename(columns={\"Cancellation Confirmation\": \"Churn\"}, inplace=True)"
   ]
  },
  {
   "cell_type": "code",
   "execution_count": 28,
   "metadata": {},
   "outputs": [
    {
     "data": {
      "text/html": [
       "<div>\n",
       "<style scoped>\n",
       "    .dataframe tbody tr th:only-of-type {\n",
       "        vertical-align: middle;\n",
       "    }\n",
       "\n",
       "    .dataframe tbody tr th {\n",
       "        vertical-align: top;\n",
       "    }\n",
       "\n",
       "    .dataframe thead th {\n",
       "        text-align: right;\n",
       "    }\n",
       "</style>\n",
       "<table border=\"1\" class=\"dataframe\">\n",
       "  <thead>\n",
       "    <tr style=\"text-align: right;\">\n",
       "      <th></th>\n",
       "      <th>About</th>\n",
       "      <th>Add Friend</th>\n",
       "      <th>Add to Playlist</th>\n",
       "      <th>Cancel</th>\n",
       "      <th>Churn</th>\n",
       "      <th>Downgrade</th>\n",
       "      <th>Error</th>\n",
       "      <th>Help</th>\n",
       "      <th>Home</th>\n",
       "      <th>Logout</th>\n",
       "      <th>NextSong</th>\n",
       "      <th>Roll Advert</th>\n",
       "      <th>Save Settings</th>\n",
       "      <th>Settings</th>\n",
       "      <th>Submit Downgrade</th>\n",
       "      <th>Submit Upgrade</th>\n",
       "      <th>Thumbs Down</th>\n",
       "      <th>Thumbs Up</th>\n",
       "      <th>Upgrade</th>\n",
       "    </tr>\n",
       "  </thead>\n",
       "  <tbody>\n",
       "    <tr>\n",
       "      <th>count</th>\n",
       "      <td>225.000000</td>\n",
       "      <td>225.000000</td>\n",
       "      <td>225.000000</td>\n",
       "      <td>225.000000</td>\n",
       "      <td>225.000000</td>\n",
       "      <td>225.000000</td>\n",
       "      <td>225.000000</td>\n",
       "      <td>225.000000</td>\n",
       "      <td>225.000000</td>\n",
       "      <td>225.000000</td>\n",
       "      <td>225.000000</td>\n",
       "      <td>225.000000</td>\n",
       "      <td>225.000000</td>\n",
       "      <td>225.000000</td>\n",
       "      <td>225.000000</td>\n",
       "      <td>225.000000</td>\n",
       "      <td>225.000000</td>\n",
       "      <td>225.000000</td>\n",
       "      <td>225.000000</td>\n",
       "    </tr>\n",
       "    <tr>\n",
       "      <th>mean</th>\n",
       "      <td>2.200000</td>\n",
       "      <td>19.008889</td>\n",
       "      <td>29.004444</td>\n",
       "      <td>0.231111</td>\n",
       "      <td>0.231111</td>\n",
       "      <td>9.133333</td>\n",
       "      <td>1.120000</td>\n",
       "      <td>6.462222</td>\n",
       "      <td>44.808889</td>\n",
       "      <td>14.337778</td>\n",
       "      <td>1013.813333</td>\n",
       "      <td>17.480000</td>\n",
       "      <td>1.377778</td>\n",
       "      <td>6.728889</td>\n",
       "      <td>0.280000</td>\n",
       "      <td>0.706667</td>\n",
       "      <td>11.315556</td>\n",
       "      <td>55.782222</td>\n",
       "      <td>2.217778</td>\n",
       "    </tr>\n",
       "    <tr>\n",
       "      <th>std</th>\n",
       "      <td>3.119638</td>\n",
       "      <td>20.581717</td>\n",
       "      <td>32.716654</td>\n",
       "      <td>0.422483</td>\n",
       "      <td>0.422483</td>\n",
       "      <td>11.734412</td>\n",
       "      <td>1.472607</td>\n",
       "      <td>7.242585</td>\n",
       "      <td>47.296122</td>\n",
       "      <td>15.346348</td>\n",
       "      <td>1104.960779</td>\n",
       "      <td>21.550207</td>\n",
       "      <td>1.735770</td>\n",
       "      <td>6.983546</td>\n",
       "      <td>0.587671</td>\n",
       "      <td>0.733874</td>\n",
       "      <td>13.077481</td>\n",
       "      <td>65.477925</td>\n",
       "      <td>2.558537</td>\n",
       "    </tr>\n",
       "    <tr>\n",
       "      <th>min</th>\n",
       "      <td>0.000000</td>\n",
       "      <td>0.000000</td>\n",
       "      <td>0.000000</td>\n",
       "      <td>0.000000</td>\n",
       "      <td>0.000000</td>\n",
       "      <td>0.000000</td>\n",
       "      <td>0.000000</td>\n",
       "      <td>0.000000</td>\n",
       "      <td>0.000000</td>\n",
       "      <td>0.000000</td>\n",
       "      <td>3.000000</td>\n",
       "      <td>0.000000</td>\n",
       "      <td>0.000000</td>\n",
       "      <td>0.000000</td>\n",
       "      <td>0.000000</td>\n",
       "      <td>0.000000</td>\n",
       "      <td>0.000000</td>\n",
       "      <td>0.000000</td>\n",
       "      <td>0.000000</td>\n",
       "    </tr>\n",
       "    <tr>\n",
       "      <th>25%</th>\n",
       "      <td>0.000000</td>\n",
       "      <td>5.000000</td>\n",
       "      <td>6.000000</td>\n",
       "      <td>0.000000</td>\n",
       "      <td>0.000000</td>\n",
       "      <td>0.000000</td>\n",
       "      <td>0.000000</td>\n",
       "      <td>1.000000</td>\n",
       "      <td>12.000000</td>\n",
       "      <td>4.000000</td>\n",
       "      <td>230.000000</td>\n",
       "      <td>3.000000</td>\n",
       "      <td>0.000000</td>\n",
       "      <td>1.000000</td>\n",
       "      <td>0.000000</td>\n",
       "      <td>0.000000</td>\n",
       "      <td>2.000000</td>\n",
       "      <td>11.000000</td>\n",
       "      <td>0.000000</td>\n",
       "    </tr>\n",
       "    <tr>\n",
       "      <th>50%</th>\n",
       "      <td>1.000000</td>\n",
       "      <td>14.000000</td>\n",
       "      <td>17.000000</td>\n",
       "      <td>0.000000</td>\n",
       "      <td>0.000000</td>\n",
       "      <td>5.000000</td>\n",
       "      <td>1.000000</td>\n",
       "      <td>5.000000</td>\n",
       "      <td>31.000000</td>\n",
       "      <td>11.000000</td>\n",
       "      <td>675.000000</td>\n",
       "      <td>11.000000</td>\n",
       "      <td>1.000000</td>\n",
       "      <td>5.000000</td>\n",
       "      <td>0.000000</td>\n",
       "      <td>1.000000</td>\n",
       "      <td>7.000000</td>\n",
       "      <td>35.000000</td>\n",
       "      <td>1.000000</td>\n",
       "    </tr>\n",
       "    <tr>\n",
       "      <th>75%</th>\n",
       "      <td>3.000000</td>\n",
       "      <td>27.000000</td>\n",
       "      <td>44.000000</td>\n",
       "      <td>0.000000</td>\n",
       "      <td>0.000000</td>\n",
       "      <td>13.000000</td>\n",
       "      <td>2.000000</td>\n",
       "      <td>9.000000</td>\n",
       "      <td>65.000000</td>\n",
       "      <td>19.000000</td>\n",
       "      <td>1571.000000</td>\n",
       "      <td>22.000000</td>\n",
       "      <td>2.000000</td>\n",
       "      <td>10.000000</td>\n",
       "      <td>0.000000</td>\n",
       "      <td>1.000000</td>\n",
       "      <td>16.000000</td>\n",
       "      <td>81.000000</td>\n",
       "      <td>3.000000</td>\n",
       "    </tr>\n",
       "    <tr>\n",
       "      <th>max</th>\n",
       "      <td>25.000000</td>\n",
       "      <td>143.000000</td>\n",
       "      <td>240.000000</td>\n",
       "      <td>1.000000</td>\n",
       "      <td>1.000000</td>\n",
       "      <td>73.000000</td>\n",
       "      <td>7.000000</td>\n",
       "      <td>46.000000</td>\n",
       "      <td>355.000000</td>\n",
       "      <td>124.000000</td>\n",
       "      <td>8002.000000</td>\n",
       "      <td>128.000000</td>\n",
       "      <td>10.000000</td>\n",
       "      <td>52.000000</td>\n",
       "      <td>3.000000</td>\n",
       "      <td>4.000000</td>\n",
       "      <td>75.000000</td>\n",
       "      <td>437.000000</td>\n",
       "      <td>15.000000</td>\n",
       "    </tr>\n",
       "  </tbody>\n",
       "</table>\n",
       "</div>"
      ],
      "text/plain": [
       "            About  Add Friend  Add to Playlist      Cancel       Churn  \\\n",
       "count  225.000000  225.000000       225.000000  225.000000  225.000000   \n",
       "mean     2.200000   19.008889        29.004444    0.231111    0.231111   \n",
       "std      3.119638   20.581717        32.716654    0.422483    0.422483   \n",
       "min      0.000000    0.000000         0.000000    0.000000    0.000000   \n",
       "25%      0.000000    5.000000         6.000000    0.000000    0.000000   \n",
       "50%      1.000000   14.000000        17.000000    0.000000    0.000000   \n",
       "75%      3.000000   27.000000        44.000000    0.000000    0.000000   \n",
       "max     25.000000  143.000000       240.000000    1.000000    1.000000   \n",
       "\n",
       "        Downgrade       Error        Help        Home      Logout  \\\n",
       "count  225.000000  225.000000  225.000000  225.000000  225.000000   \n",
       "mean     9.133333    1.120000    6.462222   44.808889   14.337778   \n",
       "std     11.734412    1.472607    7.242585   47.296122   15.346348   \n",
       "min      0.000000    0.000000    0.000000    0.000000    0.000000   \n",
       "25%      0.000000    0.000000    1.000000   12.000000    4.000000   \n",
       "50%      5.000000    1.000000    5.000000   31.000000   11.000000   \n",
       "75%     13.000000    2.000000    9.000000   65.000000   19.000000   \n",
       "max     73.000000    7.000000   46.000000  355.000000  124.000000   \n",
       "\n",
       "          NextSong  Roll Advert  Save Settings    Settings  Submit Downgrade  \\\n",
       "count   225.000000   225.000000     225.000000  225.000000        225.000000   \n",
       "mean   1013.813333    17.480000       1.377778    6.728889          0.280000   \n",
       "std    1104.960779    21.550207       1.735770    6.983546          0.587671   \n",
       "min       3.000000     0.000000       0.000000    0.000000          0.000000   \n",
       "25%     230.000000     3.000000       0.000000    1.000000          0.000000   \n",
       "50%     675.000000    11.000000       1.000000    5.000000          0.000000   \n",
       "75%    1571.000000    22.000000       2.000000   10.000000          0.000000   \n",
       "max    8002.000000   128.000000      10.000000   52.000000          3.000000   \n",
       "\n",
       "       Submit Upgrade  Thumbs Down   Thumbs Up     Upgrade  \n",
       "count      225.000000   225.000000  225.000000  225.000000  \n",
       "mean         0.706667    11.315556   55.782222    2.217778  \n",
       "std          0.733874    13.077481   65.477925    2.558537  \n",
       "min          0.000000     0.000000    0.000000    0.000000  \n",
       "25%          0.000000     2.000000   11.000000    0.000000  \n",
       "50%          1.000000     7.000000   35.000000    1.000000  \n",
       "75%          1.000000    16.000000   81.000000    3.000000  \n",
       "max          4.000000    75.000000  437.000000   15.000000  "
      ]
     },
     "execution_count": 28,
     "metadata": {},
     "output_type": "execute_result"
    }
   ],
   "source": [
    "dfpd_pages.describe()"
   ]
  },
  {
   "cell_type": "code",
   "execution_count": 29,
   "metadata": {},
   "outputs": [
    {
     "data": {
      "image/png": "[encoded data removed]",
      "text/plain": [
       "<matplotlib.figure.Figure at 0x7f74e3b7e390>"
      ]
     },
     "metadata": {
      "needs_background": "light"
     },
     "output_type": "display_data"
    }
   ],
   "source": [
    "# Visualize the data from the table above with boxplots for both active and churn groups to see if we observe certain behaviors\n",
    "pages_col = dfpd_pages.columns.drop('Churn')\n",
    "fig = plt.figure(figsize=(12, 20))\n",
    "fig.subplots_adjust(hspace=0.6, wspace=2.0)\n",
    "for i in range(1, len(pages_col)):\n",
    "    ax = fig.add_subplot(6, 4, i)\n",
    "    dfpd_pages.boxplot(pages_col[i], ax = ax, grid = False, by='Churn', showfliers=False)"
   ]
  },
  {
   "cell_type": "code",
   "execution_count": 30,
   "metadata": {},
   "outputs": [],
   "source": [
    "# Average number of Sessions between active and churned users\n",
    "num_sessions = (df_valid.select('userId', 'Churn', 'sessionId')\n",
    "                         .groupBy('userId', 'Churn')\n",
    "                         .agg(countDistinct('sessionId').alias('numSessions')))"
   ]
  },
  {
   "cell_type": "code",
   "execution_count": 31,
   "metadata": {},
   "outputs": [
    {
     "name": "stdout",
     "output_type": "stream",
     "text": [
      "+-----+------------------+\n",
      "|Churn|  avg(numSessions)|\n",
      "+-----+------------------+\n",
      "|    1|10.326923076923077|\n",
      "|    0|15.254335260115607|\n",
      "+-----+------------------+\n",
      "\n"
     ]
    }
   ],
   "source": [
    "num_sessions.groupby(num_sessions.Churn).agg({'numSessions':'avg'}).show()"
   ]
  },
  {
   "cell_type": "code",
   "execution_count": 32,
   "metadata": {},
   "outputs": [
    {
     "name": "stdout",
     "output_type": "stream",
     "text": [
      "+-----+-------------------+\n",
      "|Churn|       total_length|\n",
      "+-----+-------------------+\n",
      "|    1|  9048741.964670053|\n",
      "|    0|4.777688018193114E7|\n",
      "+-----+-------------------+\n",
      "\n"
     ]
    }
   ],
   "source": [
    "# Average length of songs played by active vs churned\n",
    "\n",
    "# first get total length of song (from NextSong page) for both groups\n",
    "song_length = (df_valid.filter(df_valid.page == 'NextSong')\n",
    "                       .groupby('Churn')\n",
    "                       .agg(sum('length').alias('total_length')))\n",
    "song_length.show()"
   ]
  },
  {
   "cell_type": "code",
   "execution_count": 33,
   "metadata": {},
   "outputs": [
    {
     "name": "stdout",
     "output_type": "stream",
     "text": [
      "+-------------------+-----+----------------------+------------------+\n",
      "|       total_length|Churn|count(DISTINCT userId)|        avg length|\n",
      "+-------------------+-----+----------------------+------------------+\n",
      "|  9048741.964670053|    1|                    52|174014.26855134717|\n",
      "|4.777688018193114E7|    0|                   173|276166.93746781006|\n",
      "+-------------------+-----+----------------------+------------------+\n",
      "\n"
     ]
    }
   ],
   "source": [
    "# reuse user_count defined above to calculate average length per user (churned vs active)\n",
    "avg_song_length = song_length.join(user_count, song_length.Churn == user_count.Churn).drop(user_count.Churn)\n",
    "avg_song_length = avg_song_length.withColumn(\"avg length\", avg_song_length['total_length']/avg_song_length['count(DISTINCT userId)'])\n",
    "avg_song_length.show()"
   ]
  },
  {
   "cell_type": "code",
   "execution_count": 34,
   "metadata": {},
   "outputs": [
    {
     "name": "stdout",
     "output_type": "stream",
     "text": [
      "+------+-----+--------------------+--------------+\n",
      "|userId|Churn|           userAgent|userAgentIndex|\n",
      "+------+-----+--------------------+--------------+\n",
      "|    36|    0|\"Mozilla/5.0 (Win...|           0.0|\n",
      "|    97|    0|\"Mozilla/5.0 (Win...|          15.0|\n",
      "|200006|    0|\"Mozilla/5.0 (Mac...|          26.0|\n",
      "|   146|    0|\"Mozilla/5.0 (Win...|           0.0|\n",
      "|    63|    0|\"Mozilla/5.0 (Win...|           0.0|\n",
      "|100005|    1|\"Mozilla/5.0 (Mac...|           2.0|\n",
      "|200011|    1|\"Mozilla/5.0 (Mac...|           2.0|\n",
      "|   149|    0|\"Mozilla/5.0 (Mac...|           5.0|\n",
      "|   133|    0|\"Mozilla/5.0 (Win...|          11.0|\n",
      "|    52|    0|Mozilla/5.0 (Wind...|           1.0|\n",
      "|100024|    1|Mozilla/5.0 (Wind...|          22.0|\n",
      "|100021|    1|\"Mozilla/5.0 (Mac...|           5.0|\n",
      "|200004|    0|\"Mozilla/5.0 (Mac...|           5.0|\n",
      "|100025|    1|\"Mozilla/5.0 (Mac...|          24.0|\n",
      "|   134|    0|\"Mozilla/5.0 (Mac...|           4.0|\n",
      "|    81|    0|\"Mozilla/5.0 (Mac...|           2.0|\n",
      "|    16|    0|\"Mozilla/5.0 (Win...|          11.0|\n",
      "|    12|    1|Mozilla/5.0 (Wind...|          19.0|\n",
      "|     4|    0|Mozilla/5.0 (Wind...|          55.0|\n",
      "|   136|    0|\"Mozilla/5.0 (Mac...|           3.0|\n",
      "+------+-----+--------------------+--------------+\n",
      "only showing top 20 rows\n",
      "\n"
     ]
    }
   ],
   "source": [
    "# User Agents\n",
    "\n",
    "# Use StringIndexer to encode user agent\n",
    "# https://spark.apache.org/docs/latest/ml-features#stringindexer\n",
    "user_agents= df_valid.select(['userId', 'Churn', 'userAgent']).distinct()\n",
    "indexer = StringIndexer(inputCol=\"userAgent\", outputCol=\"userAgentIndex\")\n",
    "indexed = indexer.fit(user_agents).transform(user_agents)\n",
    "indexed.show()"
   ]
  },
  {
   "cell_type": "code",
   "execution_count": 35,
   "metadata": {},
   "outputs": [
    {
     "data": {
      "text/plain": [
       "56"
      ]
     },
     "execution_count": 35,
     "metadata": {},
     "output_type": "execute_result"
    }
   ],
   "source": [
    "# number of different userAgent\n",
    "indexed.select('userAgentIndex').dropDuplicates().count()"
   ]
  },
  {
   "cell_type": "code",
   "execution_count": 36,
   "metadata": {},
   "outputs": [
    {
     "name": "stdout",
     "output_type": "stream",
     "text": [
      "+---------------------------------------------------------------------------------------------------------------+\n",
      "|userAgent                                                                                                      |\n",
      "+---------------------------------------------------------------------------------------------------------------+\n",
      "|\"Mozilla/5.0 (Windows NT 6.1; WOW64) AppleWebKit/537.36 (KHTML, like Gecko) Chrome/36.0.1985.143 Safari/537.36\"|\n",
      "+---------------------------------------------------------------------------------------------------------------+\n",
      "only showing top 1 row\n",
      "\n"
     ]
    }
   ],
   "source": [
    "# most frequent userAgent gets index 0\n",
    "indexed.select([\"userAgent\"]).where(indexed.userAgentIndex == \"0.0\").show(n=1, truncate=False)"
   ]
  },
  {
   "cell_type": "code",
   "execution_count": 37,
   "metadata": {},
   "outputs": [
    {
     "name": "stdout",
     "output_type": "stream",
     "text": [
      "+-----+------------+\n",
      "|Churn|numUserAgent|\n",
      "+-----+------------+\n",
      "|    1|          29|\n",
      "|    0|          51|\n",
      "+-----+------------+\n",
      "\n"
     ]
    }
   ],
   "source": [
    "indexed.groupBy('Churn').agg(countDistinct('userAgentIndex').alias('numUserAgent')).show()"
   ]
  },
  {
   "cell_type": "code",
   "execution_count": 38,
   "metadata": {},
   "outputs": [
    {
     "name": "stdout",
     "output_type": "stream",
     "text": [
      "+------+-----+-------------+-------------+-------------------+\n",
      "|userId|Churn|      min(ts)|      max(ts)|        days_active|\n",
      "+------+-----+-------------+-------------+-------------------+\n",
      "|    19|    0|1539105419000|1539159711000| 0.6283796296296297|\n",
      "|100005|    1|1538407015000|1539971825000| 18.111226851851853|\n",
      "|200007|    0|1539951708000|1542585306000| 30.481458333333332|\n",
      "|300007|    1|1538677496000|1538705338000| 0.3222453703703704|\n",
      "|    50|    0|1538622512000|1543576568000|  57.33861111111111|\n",
      "|200002|    0|1538393430000|1542324354000| 45.496805555555554|\n",
      "|    30|    0|1538352117000|1543622320000|  60.99771990740741|\n",
      "|     8|    0|1539186658000|1543586097000|  50.91943287037037|\n",
      "|100011|    1|1538414422000|1538417085000|0.03082175925925926|\n",
      "|100012|    1|1538586080000|1541100900000| 29.106712962962963|\n",
      "|     4|    0|1538356650000|1543595548000|  60.63539351851852|\n",
      "|    65|    0|1538416736000|1543490925000|  58.72903935185185|\n",
      "|   101|    1|1538358605000|1539729037000| 15.861481481481482|\n",
      "|    13|    0|1538372289000|1543512909000|  59.49791666666667|\n",
      "|   153|    0|1541711470000|1543588087000| 21.720104166666665|\n",
      "|    42|    0|1538418982000|1543610607000|  60.08825231481482|\n",
      "|100014|    1|1539177136000|1542740649000| 41.244363425925926|\n",
      "|    94|    0|1538412924000|1542781454000|  50.56168981481481|\n",
      "|    62|    0|1539095507000|1543387721000|  49.67840277777778|\n",
      "|   114|    0|1538589947000|1543000091000|  51.04333333333334|\n",
      "+------+-----+-------------+-------------+-------------------+\n",
      "only showing top 20 rows\n",
      "\n"
     ]
    }
   ],
   "source": [
    "# check activity days\n",
    "# min Timestamp for each user\n",
    "min_ts = df_valid.select([\"userId\", \"Churn\", \"ts\"]).groupby(\"userId\", \"Churn\").min(\"ts\")\n",
    "# max timestamp for each user\n",
    "max_ts = df_valid.select([\"userId\", \"ts\"]).groupby(\"userId\").max(\"ts\")\n",
    "# join both on userId\n",
    "activeDays = min_ts.join(max_ts, on=\"userId\")\n",
    "# calculate difference in days: ms--/1000-->s--/60-->min-->/60-->h--/24-->day\n",
    "activeDays = activeDays.withColumn(\"days_active\",(activeDays[\"max(ts)\"]-activeDays[\"min(ts)\"])/(1000*60*60*24))\n",
    "activeDays.show()"
   ]
  },
  {
   "cell_type": "code",
   "execution_count": 39,
   "metadata": {},
   "outputs": [
    {
     "name": "stdout",
     "output_type": "stream",
     "text": [
      "+-----+-----------------+\n",
      "|Churn| avg(days_active)|\n",
      "+-----+-----------------+\n",
      "|    1|23.51464788105413|\n",
      "|    0|46.99087334082638|\n",
      "+-----+-----------------+\n",
      "\n"
     ]
    }
   ],
   "source": [
    "activeDays.select([\"userId\", \"Churn\", \"days_active\"]).groupby('Churn').agg({'days_active':'mean'}).show()"
   ]
  },
  {
   "cell_type": "code",
   "execution_count": 40,
   "metadata": {},
   "outputs": [
    {
     "data": {
      "text/plain": [
       "<matplotlib.legend.Legend at 0x7f74e0ec0cc0>"
      ]
     },
     "execution_count": 40,
     "metadata": {},
     "output_type": "execute_result"
    },
    {
     "data": {
      "image/png": "[encoded data removed]",
      "text/plain": [
       "<matplotlib.figure.Figure at 0x7f74e0e8f908>"
      ]
     },
     "metadata": {
      "needs_background": "light"
     },
     "output_type": "display_data"
    }
   ],
   "source": [
    "# Plot a spider chart showing some data points for both groups of users\n",
    "\n",
    "# Dataframe with values calculated from above exploratory cells\n",
    "df1 = pd.DataFrame({\n",
    "'group': [1,0], # churn=1, stay=0\n",
    "'active days': [23.51, 47],\n",
    "'nb of sessions': [10.32, 15.25],\n",
    "'female %': [20/52*100,84/173*100],\n",
    "'male %': [32/52*100,89/173*100]\n",
    "})\n",
    "\n",
    "# number of variables\n",
    "categories=list(df1)[1:]\n",
    "N = len(categories)\n",
    "angles = [n / float(N) * 2 * pi for n in range(N)]\n",
    "angles += angles[:1]\n",
    " \n",
    "# Initialise the spider plot\n",
    "ax = plt.subplot(111, polar=True)\n",
    "ax.set_theta_offset(pi / 2)\n",
    "ax.set_theta_direction(-1)\n",
    " \n",
    "# Draw one axe per variable + add labels labels yet\n",
    "plt.xticks(angles[:-1], categories)\n",
    " \n",
    "# Churn\n",
    "values=df1.loc[0].drop('group').values.flatten().tolist()\n",
    "values += values[:1]\n",
    "ax.plot(angles, values, linewidth=1, linestyle='solid', label=\"Churned\")\n",
    "ax.fill(angles, values, 'b', alpha=0.1)\n",
    " \n",
    "# active\n",
    "values=df1.loc[1].drop('group').values.flatten().tolist()\n",
    "values += values[:1]\n",
    "ax.plot(angles, values, linewidth=1, linestyle='solid', label=\"Stayed\")\n",
    "ax.fill(angles, values, 'r', alpha=0.1)\n",
    "\n",
    " \n",
    "# Add legend\n",
    "plt.legend(loc='upper right', bbox_to_anchor=(0.1, 0.1))"
   ]
  },
  {
   "cell_type": "markdown",
   "metadata": {},
   "source": [
    "---"
   ]
  },
  {
   "cell_type": "markdown",
   "metadata": {},
   "source": [
    "# Feature Engineering\n",
    "Once you've familiarized yourself with the data, build out the features you find promising to train your model on. To work with the full dataset, you can follow the following steps.\n",
    "- Write a script to extract the necessary features from the smaller subset of data\n",
    "- Ensure that your script is scalable, using the best practices discussed in Lesson 3\n",
    "- Try your script on the full data set, debugging your script if necessary\n",
    "\n",
    "If you are working in the classroom workspace, you can just extract features based on the small subset of data contained here. Be sure to transfer over this work to the larger dataset when you work on your Spark cluster."
   ]
  },
  {
   "cell_type": "markdown",
   "metadata": {},
   "source": [
    "Based on the data exploration just conducted and the observed behaviors for users who stayed vs users who churned **we now need to define our features**.  \n",
    "Feature engineering is the process of transforming raw data into features that better represent our underlying problem, resulting in improved model accuracy on unseen data.  \n",
    "Here the features I decided to create to predict churn in our problem context:  \n",
    "* user activity (pages visited - eg ThumbsUp, ThumbsDown, NextSong, etc.)\n",
    "* gender\n",
    "* number of sessions\n",
    "* total length of played songs\n",
    "* number of songs played\n",
    "* Active days\n",
    "* Level (latest known - paid or free)\n",
    "* UserAgent"
   ]
  },
  {
   "cell_type": "code",
   "execution_count": 41,
   "metadata": {},
   "outputs": [
    {
     "name": "stdout",
     "output_type": "stream",
     "text": [
      "root\n",
      " |-- gender: string (nullable = true)\n",
      " |-- length: double (nullable = true)\n",
      " |-- level: string (nullable = true)\n",
      " |-- page: string (nullable = true)\n",
      " |-- sessionId: long (nullable = true)\n",
      " |-- song: string (nullable = true)\n",
      " |-- ts: long (nullable = true)\n",
      " |-- userAgent: string (nullable = true)\n",
      " |-- userId: string (nullable = true)\n",
      " |-- Churn: integer (nullable = false)\n",
      "\n"
     ]
    }
   ],
   "source": [
    "# lets create a features dataframe using df_valid. \n",
    "# First drop columns we do not use to speed up later operations\n",
    "df_valid = df_valid.drop(\"artist\", \"auth\", \"firstName\", \"itemInSession\", \"lastName\", \"location\", \"method\", \"registration\", \"status\")\n",
    "df_valid.printSchema()"
   ]
  },
  {
   "cell_type": "markdown",
   "metadata": {},
   "source": [
    "* **Create relevant pages visited by user (user events)**  \n",
    "The way users interact with the app can be a good indicator of churn"
   ]
  },
  {
   "cell_type": "code",
   "execution_count": 42,
   "metadata": {},
   "outputs": [
    {
     "name": "stdout",
     "output_type": "stream",
     "text": [
      "+------+----------+---------------+-----+---------+-----+----+----+------+--------+-----------+--------+----------------+--------------+-----------+---------+-------+\n",
      "|userId|Add Friend|Add to Playlist|Churn|Downgrade|Error|Help|Home|Logout|NextSong|Roll Advert|Settings|Submit Downgrade|Submit Upgrade|Thumbs Down|Thumbs Up|Upgrade|\n",
      "+------+----------+---------------+-----+---------+-----+----+----+------+--------+-----------+--------+----------------+--------------+-----------+---------+-------+\n",
      "|200002|         4|              8|    0|        5|    0|   2|  20|     5|     387|          7|       3|               0|             1|          6|       21|      2|\n",
      "|100010|         4|              7|    0|        0|    0|   2|  11|     5|     275|         52|       0|               0|             0|          5|       17|      2|\n",
      "|   125|         0|              0|    1|        0|    0|   0|   0|     0|       8|          1|       0|               0|             0|          0|        0|      0|\n",
      "|    51|        28|             52|    1|       23|    1|  12|  75|    24|    2111|          0|      12|               0|             0|         21|      100|      0|\n",
      "|   124|        74|            118|    0|       41|    6|  23| 176|    59|    4079|          4|      20|               0|             0|         41|      171|      0|\n",
      "+------+----------+---------------+-----+---------+-----+----+----+------+--------+-----------+--------+----------------+--------------+-----------+---------+-------+\n",
      "only showing top 5 rows\n",
      "\n"
     ]
    }
   ],
   "source": [
    "# similar to what we've done in data exploration, let's create a pivot on pages and count events by users\n",
    "# again check https://databricks.com/blog/2016/02/09/reshaping-data-with-pivot-in-apache-spark.html for pivot reshaping\n",
    "df_features = df_valid.groupby('userId').pivot('page').count().fillna(0)\n",
    "\n",
    "# remove less significant pages from our features\n",
    "# Cancel is redundant with Cancellation, login/About/Save Settings are not events I want to track as part of features\n",
    "df_features = df_features.drop('About', 'Cancel', 'Login', 'Save Settings')\n",
    "                                 \n",
    "df_features = df_features.withColumnRenamed(\"Cancellation Confirmation\", \"Churn\")\n",
    "df_features.show(5)"
   ]
  },
  {
   "cell_type": "markdown",
   "metadata": {},
   "source": [
    "* **Gender**  \n",
    "Gender could be a predictor of churn if the app has some uncovered bias toward a specific gender (UX, songs available, other social phenomenom)"
   ]
  },
  {
   "cell_type": "code",
   "execution_count": 43,
   "metadata": {},
   "outputs": [],
   "source": [
    "# replace M with 0 and F with 1\n",
    "df_valid = df_valid.withColumn('gender_num', when(df_valid.gender==\"M\", 0).otherwise(1))\n",
    "\n",
    "gender = df_valid.select(['userId','gender_num']).distinct()\n",
    "df_features = df_features.join(gender, on = 'userId', how = 'left')"
   ]
  },
  {
   "cell_type": "markdown",
   "metadata": {},
   "source": [
    "* **Number of sessions**  \n",
    "How often users logs and interact with the app is another important feature to consider"
   ]
  },
  {
   "cell_type": "code",
   "execution_count": 44,
   "metadata": {},
   "outputs": [],
   "source": [
    "numSessions = (df_valid.select([\"userId\", \"sessionId\"])\n",
    "                       .groupby(\"userId\")\n",
    "                       .agg(countDistinct('sessionId').alias('num_Sessions')))\n",
    "\n",
    "df_features = df_features.join(numSessions, on = 'userId', how = 'left')"
   ]
  },
  {
   "cell_type": "markdown",
   "metadata": {},
   "source": [
    "* **Total length of songs played**  \n",
    "Playing songs is the main service from the app so how long users listen to songs and how may songs they play is key"
   ]
  },
  {
   "cell_type": "code",
   "execution_count": 45,
   "metadata": {},
   "outputs": [],
   "source": [
    "total_length = (df_valid.filter(df_valid.page == 'NextSong')\n",
    "                        .groupby('userId')\n",
    "                        .agg(sum('length').alias('total_length')))\n",
    "\n",
    "df_features = df_features.join(total_length, on = 'userId', how = 'left')"
   ]
  },
  {
   "cell_type": "markdown",
   "metadata": {},
   "source": [
    "* **Count of songs played**"
   ]
  },
  {
   "cell_type": "code",
   "execution_count": 46,
   "metadata": {},
   "outputs": [],
   "source": [
    "# count number of songs played by each user\n",
    "songs_count = (df_valid.filter(df_valid.page == 'NextSong')\n",
    "                       .groupBy('userId')\n",
    "                       .agg(count('song').alias('count_song')))\n",
    "\n",
    "df_features = df_features.join(songs_count, on = 'userId', how = 'left')"
   ]
  },
  {
   "cell_type": "markdown",
   "metadata": {},
   "source": [
    "* **Active days**  \n",
    "Number of days each user spent using the app as per log entries (latest use minus first use of the app => max timestamp - min timestamp)"
   ]
  },
  {
   "cell_type": "code",
   "execution_count": 47,
   "metadata": {},
   "outputs": [],
   "source": [
    "# min_ts represents the timestamp when users start navigating the application (different from registration)\n",
    "# min timestamp for each user\n",
    "min_ts = df_valid.select([\"userId\", \"ts\"]).groupby(\"userId\").min(\"ts\")\n",
    "# max timestamp for each user\n",
    "max_ts = df_valid.select([\"userId\", \"ts\"]).groupby(\"userId\").max(\"ts\")\n",
    "# join both on userId\n",
    "activeDays = min_ts.join(max_ts, on=\"userId\")\n",
    "# calculate difference in days: ms--/1000-->s--/60-->min-->/60-->h--/24-->day\n",
    "activeDays = activeDays.withColumn(\"days_active\",(activeDays[\"max(ts)\"]-activeDays[\"min(ts)\"])/(1000*60*60*24))\n",
    "# select userId and days_active to prepare for joining\n",
    "activeDays = activeDays.select([\"userId\", \"days_active\"])\n",
    "# join\n",
    "df_features = df_features.join(activeDays, on = 'userId', how = 'left')"
   ]
  },
  {
   "cell_type": "markdown",
   "metadata": {},
   "source": [
    "* **Latest known level**  \n",
    "Level of users (paid or free) could be a good indicator of churn. However, as described in the problem statement and seen during exploration, users can switch between paid and free levels during their interaction with the application. It means that a same user could have different levels in the logs timeline (135 out of 225 users switch levels). I'm assigning the latest level known for the user based on timestamp.  "
   ]
  },
  {
   "cell_type": "code",
   "execution_count": 48,
   "metadata": {},
   "outputs": [
    {
     "name": "stdout",
     "output_type": "stream",
     "text": [
      "+------+-----+\n",
      "|userId|level|\n",
      "+------+-----+\n",
      "|100010| free|\n",
      "|200002| paid|\n",
      "|   125| free|\n",
      "|   124| paid|\n",
      "|    51| paid|\n",
      "+------+-----+\n",
      "only showing top 5 rows\n",
      "\n"
     ]
    }
   ],
   "source": [
    "# I'm using the sort as I discovered that when sorted in descending order and applying dropDuplicates \n",
    "# it keeps the entry with the highest sorted ts so the correct latest level known for this user\n",
    "\n",
    "# with sort\n",
    "df_valid.select(['userId','level']).sort(\"ts\", ascending=False).dropDuplicates(['userId']).show(5)"
   ]
  },
  {
   "cell_type": "code",
   "execution_count": 49,
   "metadata": {},
   "outputs": [
    {
     "name": "stdout",
     "output_type": "stream",
     "text": [
      "+------+-----+\n",
      "|userId|level|\n",
      "+------+-----+\n",
      "|100010| free|\n",
      "|200002| free|\n",
      "|   125| free|\n",
      "|   124| paid|\n",
      "|    51| paid|\n",
      "+------+-----+\n",
      "only showing top 5 rows\n",
      "\n"
     ]
    }
   ],
   "source": [
    "# without sort\n",
    "df_valid.select(['userId','level']).dropDuplicates(['userId']).show(5)"
   ]
  },
  {
   "cell_type": "code",
   "execution_count": 50,
   "metadata": {},
   "outputs": [
    {
     "data": {
      "text/plain": [
       "[Row(userId='200002', ts=1542324354000, page='Thumbs Up', level='paid'),\n",
       " Row(userId='200002', ts=1542324353000, page='NextSong', level='paid'),\n",
       " Row(userId='200002', ts=1542324151000, page='NextSong', level='paid'),\n",
       " Row(userId='200002', ts=1542323899000, page='NextSong', level='paid'),\n",
       " Row(userId='200002', ts=1542323729000, page='NextSong', level='paid'),\n",
       " Row(userId='200002', ts=1542323556000, page='NextSong', level='paid'),\n",
       " Row(userId='200002', ts=1542323343000, page='NextSong', level='paid'),\n",
       " Row(userId='200002', ts=1542323113000, page='NextSong', level='paid'),\n",
       " Row(userId='200002', ts=1542323001000, page='NextSong', level='paid'),\n",
       " Row(userId='200002', ts=1542322759000, page='NextSong', level='paid'),\n",
       " Row(userId='200002', ts=1542322708000, page='About', level='paid'),\n",
       " Row(userId='200002', ts=1542322606000, page='NextSong', level='paid'),\n",
       " Row(userId='200002', ts=1542322418000, page='NextSong', level='paid'),\n",
       " Row(userId='200002', ts=1542322265000, page='NextSong', level='paid'),\n",
       " Row(userId='200002', ts=1542321938000, page='NextSong', level='paid'),\n",
       " Row(userId='200002', ts=1542321742000, page='Thumbs Up', level='paid'),\n",
       " Row(userId='200002', ts=1542321741000, page='NextSong', level='paid'),\n",
       " Row(userId='200002', ts=1542321528000, page='NextSong', level='paid'),\n",
       " Row(userId='200002', ts=1542321305000, page='NextSong', level='paid'),\n",
       " Row(userId='200002', ts=1542320841000, page='NextSong', level='paid'),\n",
       " Row(userId='200002', ts=1542320582000, page='NextSong', level='paid'),\n",
       " Row(userId='200002', ts=1542320319000, page='NextSong', level='paid'),\n",
       " Row(userId='200002', ts=1542320114000, page='NextSong', level='paid'),\n",
       " Row(userId='200002', ts=1542319887000, page='NextSong', level='paid'),\n",
       " Row(userId='200002', ts=1542319588000, page='Thumbs Up', level='paid'),\n",
       " Row(userId='200002', ts=1542319587000, page='NextSong', level='paid'),\n",
       " Row(userId='200002', ts=1542319249000, page='NextSong', level='paid'),\n",
       " Row(userId='200002', ts=1542319122000, page='NextSong', level='paid'),\n",
       " Row(userId='200002', ts=1542318828000, page='NextSong', level='paid'),\n",
       " Row(userId='200002', ts=1542318680000, page='NextSong', level='paid'),\n",
       " Row(userId='200002', ts=1542318463000, page='NextSong', level='paid'),\n",
       " Row(userId='200002', ts=1542318133000, page='NextSong', level='paid'),\n",
       " Row(userId='200002', ts=1542317874000, page='NextSong', level='paid'),\n",
       " Row(userId='200002', ts=1542317607000, page='NextSong', level='paid'),\n",
       " Row(userId='200002', ts=1542317376000, page='NextSong', level='paid'),\n",
       " Row(userId='200002', ts=1542317005000, page='NextSong', level='paid'),\n",
       " Row(userId='200002', ts=1542316596000, page='Downgrade', level='paid'),\n",
       " Row(userId='200002', ts=1542316593000, page='Downgrade', level='paid'),\n",
       " Row(userId='200002', ts=1542316142000, page='NextSong', level='paid'),\n",
       " Row(userId='200002', ts=1542315745000, page='NextSong', level='paid'),\n",
       " Row(userId='200002', ts=1542315551000, page='Home', level='paid'),\n",
       " Row(userId='200002', ts=1542315509000, page='NextSong', level='paid'),\n",
       " Row(userId='200002', ts=1542315426000, page='Home', level='paid'),\n",
       " Row(userId='200002', ts=1542315382000, page='NextSong', level='paid'),\n",
       " Row(userId='200002', ts=1542315154000, page='NextSong', level='paid'),\n",
       " Row(userId='200002', ts=1542314914000, page='NextSong', level='paid'),\n",
       " Row(userId='200002', ts=1542314681000, page='NextSong', level='paid'),\n",
       " Row(userId='200002', ts=1542314456000, page='NextSong', level='paid'),\n",
       " Row(userId='200002', ts=1542314140000, page='NextSong', level='paid'),\n",
       " Row(userId='200002', ts=1542313927000, page='NextSong', level='paid'),\n",
       " Row(userId='200002', ts=1542313709000, page='NextSong', level='paid'),\n",
       " Row(userId='200002', ts=1542313561000, page='NextSong', level='paid'),\n",
       " Row(userId='200002', ts=1542313445000, page='Home', level='paid'),\n",
       " Row(userId='200002', ts=1542313334000, page='Logout', level='paid'),\n",
       " Row(userId='200002', ts=1542313333000, page='NextSong', level='paid'),\n",
       " Row(userId='200002', ts=1542313234000, page='NextSong', level='paid'),\n",
       " Row(userId='200002', ts=1542312972000, page='NextSong', level='paid'),\n",
       " Row(userId='200002', ts=1542312780000, page='NextSong', level='paid'),\n",
       " Row(userId='200002', ts=1542312525000, page='NextSong', level='paid'),\n",
       " Row(userId='200002', ts=1542312284000, page='NextSong', level='paid'),\n",
       " Row(userId='200002', ts=1542311983000, page='NextSong', level='paid'),\n",
       " Row(userId='200002', ts=1542311750000, page='NextSong', level='paid'),\n",
       " Row(userId='200002', ts=1542311457000, page='NextSong', level='paid'),\n",
       " Row(userId='200002', ts=1542311228000, page='Home', level='paid'),\n",
       " Row(userId='200002', ts=1542311167000, page='NextSong', level='paid'),\n",
       " Row(userId='200002', ts=1542310963000, page='NextSong', level='paid'),\n",
       " Row(userId='200002', ts=1542310722000, page='NextSong', level='paid'),\n",
       " Row(userId='200002', ts=1542310492000, page='NextSong', level='paid'),\n",
       " Row(userId='200002', ts=1542310250000, page='NextSong', level='paid'),\n",
       " Row(userId='200002', ts=1542310034000, page='NextSong', level='paid'),\n",
       " Row(userId='200002', ts=1542309824000, page='NextSong', level='paid'),\n",
       " Row(userId='200002', ts=1542309594000, page='NextSong', level='paid'),\n",
       " Row(userId='200002', ts=1542309296000, page='NextSong', level='paid'),\n",
       " Row(userId='200002', ts=1542308729000, page='Thumbs Up', level='paid'),\n",
       " Row(userId='200002', ts=1542308728000, page='NextSong', level='paid'),\n",
       " Row(userId='200002', ts=1542308522000, page='NextSong', level='paid'),\n",
       " Row(userId='200002', ts=1542308461000, page='NextSong', level='paid'),\n",
       " Row(userId='200002', ts=1542308215000, page='NextSong', level='paid'),\n",
       " Row(userId='200002', ts=1542307942000, page='NextSong', level='paid'),\n",
       " Row(userId='200002', ts=1542307632000, page='NextSong', level='paid'),\n",
       " Row(userId='200002', ts=1542307393000, page='NextSong', level='paid'),\n",
       " Row(userId='200002', ts=1542307107000, page='NextSong', level='paid'),\n",
       " Row(userId='200002', ts=1542306839000, page='NextSong', level='paid'),\n",
       " Row(userId='200002', ts=1542306449000, page='NextSong', level='paid'),\n",
       " Row(userId='200002', ts=1542306145000, page='NextSong', level='paid'),\n",
       " Row(userId='200002', ts=1542305907000, page='Add to Playlist', level='paid'),\n",
       " Row(userId='200002', ts=1542305902000, page='NextSong', level='paid'),\n",
       " Row(userId='200002', ts=1542305718000, page='NextSong', level='paid'),\n",
       " Row(userId='200002', ts=1542305457000, page='NextSong', level='paid'),\n",
       " Row(userId='200002', ts=1542305161000, page='NextSong', level='paid'),\n",
       " Row(userId='200002', ts=1542304922000, page='NextSong', level='paid'),\n",
       " Row(userId='200002', ts=1542304590000, page='NextSong', level='paid'),\n",
       " Row(userId='200002', ts=1542304375000, page='NextSong', level='paid'),\n",
       " Row(userId='200002', ts=1542304114000, page='NextSong', level='paid'),\n",
       " Row(userId='200002', ts=1542303998000, page='Home', level='paid'),\n",
       " Row(userId='200002', ts=1542303855000, page='Logout', level='paid'),\n",
       " Row(userId='200002', ts=1542303854000, page='NextSong', level='paid'),\n",
       " Row(userId='200002', ts=1542303587000, page='NextSong', level='paid'),\n",
       " Row(userId='200002', ts=1542303408000, page='Home', level='paid'),\n",
       " Row(userId='200002', ts=1542303396000, page='NextSong', level='paid'),\n",
       " Row(userId='200002', ts=1542303094000, page='NextSong', level='paid'),\n",
       " Row(userId='200002', ts=1542302937000, page='NextSong', level='paid'),\n",
       " Row(userId='200002', ts=1542302731000, page='NextSong', level='paid'),\n",
       " Row(userId='200002', ts=1542302673000, page='NextSong', level='paid'),\n",
       " Row(userId='200002', ts=1542302378000, page='NextSong', level='paid'),\n",
       " Row(userId='200002', ts=1542302134000, page='NextSong', level='paid'),\n",
       " Row(userId='200002', ts=1542301986000, page='NextSong', level='paid'),\n",
       " Row(userId='200002', ts=1542301713000, page='NextSong', level='paid'),\n",
       " Row(userId='200002', ts=1542301377000, page='Add to Playlist', level='paid'),\n",
       " Row(userId='200002', ts=1542301344000, page='NextSong', level='paid'),\n",
       " Row(userId='200002', ts=1542301060000, page='NextSong', level='paid'),\n",
       " Row(userId='200002', ts=1542300891000, page='NextSong', level='paid'),\n",
       " Row(userId='200002', ts=1542300722000, page='NextSong', level='paid'),\n",
       " Row(userId='200002', ts=1542300453000, page='Thumbs Up', level='paid'),\n",
       " Row(userId='200002', ts=1542300452000, page='NextSong', level='paid'),\n",
       " Row(userId='200002', ts=1542300277000, page='Help', level='paid'),\n",
       " Row(userId='200002', ts=1542300263000, page='NextSong', level='paid'),\n",
       " Row(userId='200002', ts=1542300062000, page='NextSong', level='paid'),\n",
       " Row(userId='200002', ts=1542299744000, page='NextSong', level='paid'),\n",
       " Row(userId='200002', ts=1542299464000, page='Thumbs Up', level='paid'),\n",
       " Row(userId='200002', ts=1542299463000, page='NextSong', level='paid'),\n",
       " Row(userId='200002', ts=1542299182000, page='NextSong', level='paid'),\n",
       " Row(userId='200002', ts=1542298979000, page='NextSong', level='paid'),\n",
       " Row(userId='200002', ts=1542298817000, page='NextSong', level='paid'),\n",
       " Row(userId='200002', ts=1542298638000, page='NextSong', level='paid'),\n",
       " Row(userId='200002', ts=1542298414000, page='NextSong', level='paid'),\n",
       " Row(userId='200002', ts=1542298184000, page='NextSong', level='paid'),\n",
       " Row(userId='200002', ts=1542297989000, page='NextSong', level='paid'),\n",
       " Row(userId='200002', ts=1542297682000, page='NextSong', level='paid'),\n",
       " Row(userId='200002', ts=1542297410000, page='NextSong', level='paid'),\n",
       " Row(userId='200002', ts=1542297163000, page='NextSong', level='paid'),\n",
       " Row(userId='200002', ts=1542296944000, page='NextSong', level='paid'),\n",
       " Row(userId='200002', ts=1542296357000, page='NextSong', level='paid'),\n",
       " Row(userId='200002', ts=1542296100000, page='NextSong', level='paid'),\n",
       " Row(userId='200002', ts=1542295904000, page='NextSong', level='paid'),\n",
       " Row(userId='200002', ts=1542295398000, page='NextSong', level='paid'),\n",
       " Row(userId='200002', ts=1542295244000, page='NextSong', level='paid'),\n",
       " Row(userId='200002', ts=1542295005000, page='NextSong', level='paid'),\n",
       " Row(userId='200002', ts=1542294764000, page='NextSong', level='paid'),\n",
       " Row(userId='200002', ts=1542294507000, page='NextSong', level='paid'),\n",
       " Row(userId='200002', ts=1540257929000, page='NextSong', level='paid'),\n",
       " Row(userId='200002', ts=1540257690000, page='NextSong', level='paid'),\n",
       " Row(userId='200002', ts=1540257536000, page='Home', level='paid'),\n",
       " Row(userId='200002', ts=1540257469000, page='NextSong', level='paid'),\n",
       " Row(userId='200002', ts=1540257184000, page='NextSong', level='paid'),\n",
       " Row(userId='200002', ts=1540256958000, page='NextSong', level='paid'),\n",
       " Row(userId='200002', ts=1540256750000, page='NextSong', level='paid'),\n",
       " Row(userId='200002', ts=1540256650000, page='NextSong', level='paid'),\n",
       " Row(userId='200002', ts=1540256353000, page='NextSong', level='paid'),\n",
       " Row(userId='200002', ts=1540256085000, page='NextSong', level='paid'),\n",
       " Row(userId='200002', ts=1540255894000, page='NextSong', level='paid'),\n",
       " Row(userId='200002', ts=1540255621000, page='NextSong', level='paid'),\n",
       " Row(userId='200002', ts=1540255419000, page='NextSong', level='paid'),\n",
       " Row(userId='200002', ts=1540255079000, page='NextSong', level='paid'),\n",
       " Row(userId='200002', ts=1540254739000, page='Thumbs Up', level='paid'),\n",
       " Row(userId='200002', ts=1540254738000, page='NextSong', level='paid'),\n",
       " Row(userId='200002', ts=1540254484000, page='NextSong', level='paid'),\n",
       " Row(userId='200002', ts=1540254197000, page='NextSong', level='paid'),\n",
       " Row(userId='200002', ts=1540253945000, page='NextSong', level='paid'),\n",
       " Row(userId='200002', ts=1540253739000, page='NextSong', level='paid'),\n",
       " Row(userId='200002', ts=1540253479000, page='NextSong', level='paid'),\n",
       " Row(userId='200002', ts=1540253245000, page='NextSong', level='paid'),\n",
       " Row(userId='200002', ts=1540253154000, page='Home', level='paid'),\n",
       " Row(userId='200002', ts=1540253013000, page='NextSong', level='paid'),\n",
       " Row(userId='200002', ts=1540252789000, page='NextSong', level='paid'),\n",
       " Row(userId='200002', ts=1540252701000, page='NextSong', level='paid'),\n",
       " Row(userId='200002', ts=1540252470000, page='NextSong', level='paid'),\n",
       " Row(userId='200002', ts=1540252314000, page='NextSong', level='paid'),\n",
       " Row(userId='200002', ts=1540252157000, page='Thumbs Up', level='paid'),\n",
       " Row(userId='200002', ts=1540252156000, page='NextSong', level='paid'),\n",
       " Row(userId='200002', ts=1540251958000, page='NextSong', level='paid'),\n",
       " Row(userId='200002', ts=1540251748000, page='NextSong', level='paid'),\n",
       " Row(userId='200002', ts=1540251169000, page='NextSong', level='paid'),\n",
       " Row(userId='200002', ts=1540250816000, page='NextSong', level='paid'),\n",
       " Row(userId='200002', ts=1540250596000, page='NextSong', level='paid'),\n",
       " Row(userId='200002', ts=1540250414000, page='NextSong', level='paid'),\n",
       " Row(userId='200002', ts=1540250184000, page='NextSong', level='paid'),\n",
       " Row(userId='200002', ts=1540249940000, page='NextSong', level='paid'),\n",
       " Row(userId='200002', ts=1540249673000, page='NextSong', level='paid'),\n",
       " Row(userId='200002', ts=1540249423000, page='NextSong', level='paid'),\n",
       " Row(userId='200002', ts=1540249282000, page='NextSong', level='paid'),\n",
       " Row(userId='200002', ts=1540249061000, page='NextSong', level='paid'),\n",
       " Row(userId='200002', ts=1540248912000, page='NextSong', level='paid'),\n",
       " Row(userId='200002', ts=1540248701000, page='NextSong', level='paid'),\n",
       " Row(userId='200002', ts=1540248443000, page='NextSong', level='paid'),\n",
       " Row(userId='200002', ts=1540248144000, page='NextSong', level='paid'),\n",
       " Row(userId='200002', ts=1540247898000, page='NextSong', level='paid'),\n",
       " Row(userId='200002', ts=1540247649000, page='NextSong', level='paid'),\n",
       " Row(userId='200002', ts=1540247404000, page='NextSong', level='paid'),\n",
       " Row(userId='200002', ts=1540247327000, page='NextSong', level='paid'),\n",
       " Row(userId='200002', ts=1540247077000, page='NextSong', level='paid'),\n",
       " Row(userId='200002', ts=1540246852000, page='NextSong', level='paid'),\n",
       " Row(userId='200002', ts=1540246718000, page='NextSong', level='paid'),\n",
       " Row(userId='200002', ts=1540246480000, page='NextSong', level='paid'),\n",
       " Row(userId='200002', ts=1540246193000, page='NextSong', level='paid'),\n",
       " Row(userId='200002', ts=1540245968000, page='NextSong', level='paid'),\n",
       " Row(userId='200002', ts=1540245637000, page='NextSong', level='paid'),\n",
       " Row(userId='200002', ts=1540245369000, page='NextSong', level='paid'),\n",
       " Row(userId='200002', ts=1540245119000, page='NextSong', level='paid'),\n",
       " Row(userId='200002', ts=1540244899000, page='NextSong', level='paid'),\n",
       " Row(userId='200002', ts=1540244733000, page='NextSong', level='paid'),\n",
       " Row(userId='200002', ts=1540244519000, page='NextSong', level='paid'),\n",
       " Row(userId='200002', ts=1540244317000, page='NextSong', level='paid'),\n",
       " Row(userId='200002', ts=1540244036000, page='NextSong', level='paid'),\n",
       " Row(userId='200002', ts=1540243797000, page='NextSong', level='paid'),\n",
       " Row(userId='200002', ts=1540243528000, page='NextSong', level='paid'),\n",
       " Row(userId='200002', ts=1540243206000, page='NextSong', level='paid'),\n",
       " Row(userId='200002', ts=1540242912000, page='NextSong', level='paid'),\n",
       " Row(userId='200002', ts=1540242628000, page='NextSong', level='paid'),\n",
       " Row(userId='200002', ts=1540242338000, page='NextSong', level='paid'),\n",
       " Row(userId='200002', ts=1540242021000, page='NextSong', level='paid'),\n",
       " Row(userId='200002', ts=1540241692000, page='NextSong', level='paid'),\n",
       " Row(userId='200002', ts=1540241384000, page='NextSong', level='paid'),\n",
       " Row(userId='200002', ts=1540241180000, page='NextSong', level='paid'),\n",
       " Row(userId='200002', ts=1540240967000, page='Add to Playlist', level='paid'),\n",
       " Row(userId='200002', ts=1540240577000, page='NextSong', level='paid'),\n",
       " Row(userId='200002', ts=1540240414000, page='NextSong', level='paid'),\n",
       " Row(userId='200002', ts=1540240252000, page='NextSong', level='paid'),\n",
       " Row(userId='200002', ts=1540240103000, page='Thumbs Down', level='paid'),\n",
       " Row(userId='200002', ts=1540240102000, page='NextSong', level='paid'),\n",
       " Row(userId='200002', ts=1540239921000, page='Thumbs Down', level='paid'),\n",
       " Row(userId='200002', ts=1540239920000, page='NextSong', level='paid'),\n",
       " Row(userId='200002', ts=1540239784000, page='NextSong', level='paid'),\n",
       " Row(userId='200002', ts=1540239462000, page='NextSong', level='paid'),\n",
       " Row(userId='200002', ts=1540239173000, page='NextSong', level='paid'),\n",
       " Row(userId='200002', ts=1540238940000, page='NextSong', level='paid'),\n",
       " Row(userId='200002', ts=1540238612000, page='Thumbs Up', level='paid'),\n",
       " Row(userId='200002', ts=1540238611000, page='NextSong', level='paid'),\n",
       " Row(userId='200002', ts=1540238418000, page='NextSong', level='paid'),\n",
       " Row(userId='200002', ts=1540238107000, page='NextSong', level='paid'),\n",
       " Row(userId='200002', ts=1540237883000, page='NextSong', level='paid'),\n",
       " Row(userId='200002', ts=1540237647000, page='NextSong', level='paid'),\n",
       " Row(userId='200002', ts=1540237379000, page='NextSong', level='paid'),\n",
       " Row(userId='200002', ts=1540237115000, page='NextSong', level='paid'),\n",
       " Row(userId='200002', ts=1540236949000, page='NextSong', level='paid'),\n",
       " Row(userId='200002', ts=1540236684000, page='NextSong', level='paid'),\n",
       " Row(userId='200002', ts=1540236448000, page='Thumbs Up', level='paid'),\n",
       " Row(userId='200002', ts=1540236447000, page='NextSong', level='paid'),\n",
       " Row(userId='200002', ts=1540236192000, page='NextSong', level='paid'),\n",
       " Row(userId='200002', ts=1540235834000, page='NextSong', level='paid'),\n",
       " Row(userId='200002', ts=1540235738000, page='Home', level='paid'),\n",
       " Row(userId='200002', ts=1540235415000, page='NextSong', level='paid'),\n",
       " Row(userId='200002', ts=1540235331000, page='Home', level='paid'),\n",
       " Row(userId='200002', ts=1539877482000, page='Add Friend', level='paid'),\n",
       " Row(userId='200002', ts=1539877481000, page='NextSong', level='paid'),\n",
       " Row(userId='200002', ts=1539877238000, page='Thumbs Up', level='paid'),\n",
       " Row(userId='200002', ts=1539877237000, page='NextSong', level='paid'),\n",
       " Row(userId='200002', ts=1539877008000, page='NextSong', level='paid'),\n",
       " Row(userId='200002', ts=1539876852000, page='Thumbs Up', level='paid'),\n",
       " Row(userId='200002', ts=1539876851000, page='NextSong', level='paid'),\n",
       " Row(userId='200002', ts=1539876670000, page='NextSong', level='paid'),\n",
       " Row(userId='200002', ts=1539876332000, page='NextSong', level='paid'),\n",
       " Row(userId='200002', ts=1539876137000, page='NextSong', level='paid'),\n",
       " Row(userId='200002', ts=1539876028000, page='NextSong', level='paid'),\n",
       " Row(userId='200002', ts=1539875811000, page='NextSong', level='paid'),\n",
       " Row(userId='200002', ts=1539875585000, page='Thumbs Down', level='paid'),\n",
       " Row(userId='200002', ts=1539875584000, page='NextSong', level='paid'),\n",
       " Row(userId='200002', ts=1539875340000, page='NextSong', level='paid'),\n",
       " Row(userId='200002', ts=1539875082000, page='NextSong', level='paid'),\n",
       " Row(userId='200002', ts=1539874861000, page='NextSong', level='paid'),\n",
       " Row(userId='200002', ts=1539874612000, page='NextSong', level='paid'),\n",
       " Row(userId='200002', ts=1539874436000, page='NextSong', level='paid'),\n",
       " Row(userId='200002', ts=1539874085000, page='NextSong', level='paid'),\n",
       " Row(userId='200002', ts=1539873825000, page='NextSong', level='paid'),\n",
       " Row(userId='200002', ts=1539873613000, page='Thumbs Down', level='paid'),\n",
       " Row(userId='200002', ts=1539873612000, page='NextSong', level='paid'),\n",
       " Row(userId='200002', ts=1539873476000, page='NextSong', level='paid'),\n",
       " Row(userId='200002', ts=1539873214000, page='NextSong', level='paid'),\n",
       " Row(userId='200002', ts=1539872923000, page='NextSong', level='paid'),\n",
       " Row(userId='200002', ts=1539872696000, page='NextSong', level='paid'),\n",
       " Row(userId='200002', ts=1539872469000, page='NextSong', level='paid'),\n",
       " Row(userId='200002', ts=1539872268000, page='NextSong', level='paid'),\n",
       " Row(userId='200002', ts=1539872030000, page='NextSong', level='paid'),\n",
       " Row(userId='200002', ts=1539871744000, page='NextSong', level='paid'),\n",
       " Row(userId='200002', ts=1539871589000, page='NextSong', level='paid'),\n",
       " Row(userId='200002', ts=1539871363000, page='NextSong', level='paid'),\n",
       " Row(userId='200002', ts=1539871133000, page='Thumbs Up', level='paid'),\n",
       " Row(userId='200002', ts=1539871132000, page='NextSong', level='paid'),\n",
       " Row(userId='200002', ts=1539870962000, page='Add to Playlist', level='paid'),\n",
       " Row(userId='200002', ts=1539870946000, page='NextSong', level='paid'),\n",
       " Row(userId='200002', ts=1539870752000, page='Settings', level='paid'),\n",
       " Row(userId='200002', ts=1539870727000, page='NextSong', level='paid'),\n",
       " Row(userId='200002', ts=1539870471000, page='NextSong', level='paid'),\n",
       " Row(userId='200002', ts=1539870404000, page='Downgrade', level='paid'),\n",
       " Row(userId='200002', ts=1539870318000, page='NextSong', level='paid'),\n",
       " Row(userId='200002', ts=1539870129000, page='NextSong', level='paid'),\n",
       " Row(userId='200002', ts=1539869883000, page='Thumbs Down', level='paid'),\n",
       " Row(userId='200002', ts=1539869882000, page='NextSong', level='paid'),\n",
       " Row(userId='200002', ts=1539869624000, page='NextSong', level='paid'),\n",
       " Row(userId='200002', ts=1539869598000, page='NextSong', level='paid'),\n",
       " Row(userId='200002', ts=1539869356000, page='NextSong', level='paid'),\n",
       " Row(userId='200002', ts=1539869075000, page='NextSong', level='paid'),\n",
       " Row(userId='200002', ts=1539868838000, page='NextSong', level='paid'),\n",
       " Row(userId='200002', ts=1539868617000, page='NextSong', level='paid'),\n",
       " Row(userId='200002', ts=1539868223000, page='NextSong', level='paid'),\n",
       " Row(userId='200002', ts=1539867953000, page='NextSong', level='paid'),\n",
       " Row(userId='200002', ts=1539867701000, page='NextSong', level='paid'),\n",
       " Row(userId='200002', ts=1539867539000, page='NextSong', level='paid'),\n",
       " Row(userId='200002', ts=1539867302000, page='Add to Playlist', level='paid'),\n",
       " Row(userId='200002', ts=1539867302000, page='NextSong', level='paid'),\n",
       " Row(userId='200002', ts=1539867143000, page='NextSong', level='paid'),\n",
       " Row(userId='200002', ts=1539866959000, page='NextSong', level='paid'),\n",
       " Row(userId='200002', ts=1539866795000, page='NextSong', level='paid'),\n",
       " Row(userId='200002', ts=1539866775000, page='Home', level='paid'),\n",
       " Row(userId='200002', ts=1539866631000, page='Logout', level='paid'),\n",
       " Row(userId='200002', ts=1539866630000, page='NextSong', level='paid'),\n",
       " Row(userId='200002', ts=1539866197000, page='NextSong', level='paid'),\n",
       " Row(userId='200002', ts=1539865956000, page='NextSong', level='paid'),\n",
       " Row(userId='200002', ts=1539865534000, page='NextSong', level='paid'),\n",
       " Row(userId='200002', ts=1539865184000, page='Thumbs Up', level='paid'),\n",
       " Row(userId='200002', ts=1539865183000, page='NextSong', level='paid'),\n",
       " Row(userId='200002', ts=1539865094000, page='Home', level='paid'),\n",
       " Row(userId='200002', ts=1539865012000, page='NextSong', level='paid'),\n",
       " Row(userId='200002', ts=1539864737000, page='NextSong', level='paid'),\n",
       " Row(userId='200002', ts=1539864436000, page='NextSong', level='paid'),\n",
       " Row(userId='200002', ts=1539864241000, page='NextSong', level='paid'),\n",
       " Row(userId='200002', ts=1539864002000, page='Thumbs Up', level='paid'),\n",
       " Row(userId='200002', ts=1539864001000, page='NextSong', level='paid'),\n",
       " Row(userId='200002', ts=1539863779000, page='NextSong', level='paid'),\n",
       " Row(userId='200002', ts=1539863508000, page='NextSong', level='paid'),\n",
       " Row(userId='200002', ts=1539863108000, page='NextSong', level='paid'),\n",
       " Row(userId='200002', ts=1539862851000, page='NextSong', level='paid'),\n",
       " Row(userId='200002', ts=1539862724000, page='NextSong', level='paid'),\n",
       " Row(userId='200002', ts=1539862408000, page='NextSong', level='paid'),\n",
       " Row(userId='200002', ts=1539862250000, page='NextSong', level='paid'),\n",
       " Row(userId='200002', ts=1539862071000, page='NextSong', level='paid'),\n",
       " Row(userId='200002', ts=1539861802000, page='NextSong', level='paid'),\n",
       " Row(userId='200002', ts=1539861613000, page='NextSong', level='paid'),\n",
       " Row(userId='200002', ts=1539861322000, page='NextSong', level='paid'),\n",
       " Row(userId='200002', ts=1539861068000, page='Add Friend', level='paid'),\n",
       " Row(userId='200002', ts=1539861067000, page='NextSong', level='paid'),\n",
       " Row(userId='200002', ts=1539860748000, page='NextSong', level='paid'),\n",
       " Row(userId='200002', ts=1539860436000, page='NextSong', level='paid'),\n",
       " Row(userId='200002', ts=1539860159000, page='NextSong', level='paid'),\n",
       " Row(userId='200002', ts=1539859897000, page='NextSong', level='paid'),\n",
       " Row(userId='200002', ts=1539859647000, page='NextSong', level='paid'),\n",
       " Row(userId='200002', ts=1539859379000, page='NextSong', level='paid'),\n",
       " Row(userId='200002', ts=1539859197000, page='NextSong', level='paid'),\n",
       " Row(userId='200002', ts=1539858906000, page='NextSong', level='paid'),\n",
       " Row(userId='200002', ts=1539858589000, page='NextSong', level='paid'),\n",
       " Row(userId='200002', ts=1539858110000, page='NextSong', level='paid'),\n",
       " Row(userId='200002', ts=1539858052000, page='Help', level='paid'),\n",
       " Row(userId='200002', ts=1539857854000, page='Downgrade', level='paid'),\n",
       " Row(userId='200002', ts=1539857842000, page='Downgrade', level='paid'),\n",
       " Row(userId='200002', ts=1539857495000, page='NextSong', level='paid'),\n",
       " Row(userId='200002', ts=1539857296000, page='NextSong', level='paid'),\n",
       " Row(userId='200002', ts=1539856704000, page='NextSong', level='paid'),\n",
       " Row(userId='200002', ts=1539856559000, page='NextSong', level='paid'),\n",
       " Row(userId='200002', ts=1539856305000, page='NextSong', level='paid'),\n",
       " Row(userId='200002', ts=1539856117000, page='NextSong', level='paid'),\n",
       " Row(userId='200002', ts=1539855920000, page='NextSong', level='paid'),\n",
       " Row(userId='200002', ts=1539855789000, page='Home', level='paid'),\n",
       " Row(userId='200002', ts=1539855160000, page='Logout', level='paid'),\n",
       " Row(userId='200002', ts=1539855159000, page='Home', level='paid'),\n",
       " Row(userId='200002', ts=1539855001000, page='Submit Upgrade', level='free'),\n",
       " Row(userId='200002', ts=1539855000000, page='Upgrade', level='free'),\n",
       " Row(userId='200002', ts=1539854999000, page='NextSong', level='free'),\n",
       " Row(userId='200002', ts=1539854711000, page='NextSong', level='free'),\n",
       " Row(userId='200002', ts=1539854558000, page='NextSong', level='free'),\n",
       " Row(userId='200002', ts=1539854170000, page='NextSong', level='free'),\n",
       " Row(userId='200002', ts=1539853904000, page='NextSong', level='free'),\n",
       " Row(userId='200002', ts=1539853664000, page='NextSong', level='free'),\n",
       " Row(userId='200002', ts=1539853445000, page='NextSong', level='free'),\n",
       " Row(userId='200002', ts=1539853139000, page='NextSong', level='free'),\n",
       " Row(userId='200002', ts=1539852972000, page='NextSong', level='free'),\n",
       " Row(userId='200002', ts=1539852855000, page='Add to Playlist', level='free'),\n",
       " Row(userId='200002', ts=1539852707000, page='NextSong', level='free'),\n",
       " Row(userId='200002', ts=1539852443000, page='Roll Advert', level='free'),\n",
       " Row(userId='200002', ts=1539852442000, page='NextSong', level='free'),\n",
       " Row(userId='200002', ts=1539852212000, page='NextSong', level='free'),\n",
       " Row(userId='200002', ts=1539852024000, page='NextSong', level='free'),\n",
       " Row(userId='200002', ts=1539851770000, page='Roll Advert', level='free'),\n",
       " Row(userId='200002', ts=1539851767000, page='NextSong', level='free'),\n",
       " Row(userId='200002', ts=1539851558000, page='NextSong', level='free'),\n",
       " Row(userId='200002', ts=1539851334000, page='NextSong', level='free'),\n",
       " Row(userId='200002', ts=1539851118000, page='Thumbs Up', level='free'),\n",
       " Row(userId='200002', ts=1539851117000, page='NextSong', level='free'),\n",
       " Row(userId='200002', ts=1539850879000, page='NextSong', level='free'),\n",
       " Row(userId='200002', ts=1539850612000, page='NextSong', level='free'),\n",
       " Row(userId='200002', ts=1539850266000, page='NextSong', level='free'),\n",
       " Row(userId='200002', ts=1539850078000, page='Thumbs Down', level='free'),\n",
       " Row(userId='200002', ts=1539850077000, page='NextSong', level='free'),\n",
       " Row(userId='200002', ts=1539849886000, page='NextSong', level='free'),\n",
       " Row(userId='200002', ts=1539849663000, page='NextSong', level='free'),\n",
       " Row(userId='200002', ts=1539849465000, page='NextSong', level='free'),\n",
       " Row(userId='200002', ts=1539849191000, page='NextSong', level='free'),\n",
       " Row(userId='200002', ts=1539848917000, page='NextSong', level='free'),\n",
       " Row(userId='200002', ts=1539848696000, page='Thumbs Up', level='free'),\n",
       " Row(userId='200002', ts=1539848695000, page='NextSong', level='free'),\n",
       " Row(userId='200002', ts=1539848449000, page='NextSong', level='free'),\n",
       " Row(userId='200002', ts=1539848374000, page='Home', level='free'),\n",
       " Row(userId='200002', ts=1539847966000, page='NextSong', level='free'),\n",
       " Row(userId='200002', ts=1539847835000, page='Home', level='free'),\n",
       " Row(userId='200002', ts=1539847719000, page='Settings', level='free'),\n",
       " Row(userId='200002', ts=1539847677000, page='About', level='free'),\n",
       " Row(userId='200002', ts=1539716923000, page='Roll Advert', level='free'),\n",
       " Row(userId='200002', ts=1539716919000, page='NextSong', level='free'),\n",
       " Row(userId='200002', ts=1539716715000, page='NextSong', level='free'),\n",
       " Row(userId='200002', ts=1539716546000, page='Thumbs Up', level='free'),\n",
       " Row(userId='200002', ts=1539716545000, page='NextSong', level='free'),\n",
       " Row(userId='200002', ts=1539716372000, page='NextSong', level='free'),\n",
       " Row(userId='200002', ts=1539716016000, page='NextSong', level='free'),\n",
       " Row(userId='200002', ts=1539715817000, page='NextSong', level='free'),\n",
       " Row(userId='200002', ts=1539715628000, page='NextSong', level='free'),\n",
       " Row(userId='200002', ts=1539715359000, page='NextSong', level='free'),\n",
       " Row(userId='200002', ts=1539715152000, page='NextSong', level='free'),\n",
       " Row(userId='200002', ts=1539714963000, page='NextSong', level='free'),\n",
       " Row(userId='200002', ts=1539714665000, page='NextSong', level='free'),\n",
       " Row(userId='200002', ts=1539714431000, page='NextSong', level='free'),\n",
       " Row(userId='200002', ts=1539714229000, page='Home', level='free'),\n",
       " Row(userId='200002', ts=1539714202000, page='NextSong', level='free'),\n",
       " Row(userId='200002', ts=1539714044000, page='NextSong', level='free'),\n",
       " Row(userId='200002', ts=1539713792000, page='NextSong', level='free'),\n",
       " Row(userId='200002', ts=1539713565000, page='NextSong', level='free'),\n",
       " Row(userId='200002', ts=1539713012000, page='NextSong', level='free'),\n",
       " Row(userId='200002', ts=1539712793000, page='NextSong', level='free'),\n",
       " Row(userId='200002', ts=1539712401000, page='NextSong', level='free'),\n",
       " Row(userId='200002', ts=1539712029000, page='NextSong', level='free'),\n",
       " Row(userId='200002', ts=1539711793000, page='NextSong', level='free'),\n",
       " Row(userId='200002', ts=1539711611000, page='Thumbs Up', level='free'),\n",
       " Row(userId='200002', ts=1539711610000, page='NextSong', level='free'),\n",
       " Row(userId='200002', ts=1539711437000, page='NextSong', level='free'),\n",
       " Row(userId='200002', ts=1539711207000, page='NextSong', level='free'),\n",
       " Row(userId='200002', ts=1539710919000, page='NextSong', level='free'),\n",
       " Row(userId='200002', ts=1539710846000, page='Upgrade', level='free'),\n",
       " Row(userId='200002', ts=1539710637000, page='NextSong', level='free'),\n",
       " Row(userId='200002', ts=1539710372000, page='Add to Playlist', level='free'),\n",
       " Row(userId='200002', ts=1539710370000, page='NextSong', level='free'),\n",
       " Row(userId='200002', ts=1539710177000, page='NextSong', level='free'),\n",
       " Row(userId='200002', ts=1539709889000, page='NextSong', level='free'),\n",
       " Row(userId='200002', ts=1539709676000, page='NextSong', level='free'),\n",
       " Row(userId='200002', ts=1539709480000, page='NextSong', level='free'),\n",
       " Row(userId='200002', ts=1539709240000, page='NextSong', level='free'),\n",
       " Row(userId='200002', ts=1539709018000, page='Roll Advert', level='free'),\n",
       " Row(userId='200002', ts=1539708945000, page='NextSong', level='free'),\n",
       " Row(userId='200002', ts=1539708737000, page='NextSong', level='free'),\n",
       " Row(userId='200002', ts=1539708704000, page='Home', level='free'),\n",
       " Row(userId='200002', ts=1538506697000, page='Logout', level='free'),\n",
       " Row(userId='200002', ts=1538506696000, page='NextSong', level='free'),\n",
       " Row(userId='200002', ts=1538506450000, page='NextSong', level='free'),\n",
       " Row(userId='200002', ts=1538506229000, page='Roll Advert', level='free'),\n",
       " Row(userId='200002', ts=1538506227000, page='NextSong', level='free'),\n",
       " Row(userId='200002', ts=1538505979000, page='NextSong', level='free'),\n",
       " Row(userId='200002', ts=1538505740000, page='NextSong', level='free'),\n",
       " Row(userId='200002', ts=1538505483000, page='NextSong', level='free'),\n",
       " Row(userId='200002', ts=1538505182000, page='NextSong', level='free'),\n",
       " Row(userId='200002', ts=1538504951000, page='NextSong', level='free'),\n",
       " Row(userId='200002', ts=1538504750000, page='Thumbs Up', level='free'),\n",
       " Row(userId='200002', ts=1538504749000, page='NextSong', level='free'),\n",
       " Row(userId='200002', ts=1538504425000, page='NextSong', level='free'),\n",
       " Row(userId='200002', ts=1538504234000, page='NextSong', level='free'),\n",
       " Row(userId='200002', ts=1538503876000, page='NextSong', level='free'),\n",
       " Row(userId='200002', ts=1538503644000, page='NextSong', level='free'),\n",
       " Row(userId='200002', ts=1538503457000, page='Add Friend', level='free'),\n",
       " Row(userId='200002', ts=1538503456000, page='Home', level='free'),\n",
       " Row(userId='200002', ts=1538503405000, page='NextSong', level='free'),\n",
       " Row(userId='200002', ts=1538503391000, page='Settings', level='free'),\n",
       " Row(userId='200002', ts=1538503248000, page='Home', level='free'),\n",
       " Row(userId='200002', ts=1538503242000, page='Add Friend', level='free'),\n",
       " Row(userId='200002', ts=1538503241000, page='About', level='free'),\n",
       " Row(userId='200002', ts=1538503168000, page='NextSong', level='free'),\n",
       " Row(userId='200002', ts=1538502945000, page='NextSong', level='free'),\n",
       " Row(userId='200002', ts=1538502918000, page='Roll Advert', level='free'),\n",
       " Row(userId='200002', ts=1538502773000, page='NextSong', level='free'),\n",
       " Row(userId='200002', ts=1538502641000, page='NextSong', level='free'),\n",
       " Row(userId='200002', ts=1538502256000, page='NextSong', level='free'),\n",
       " Row(userId='200002', ts=1538501988000, page='NextSong', level='free'),\n",
       " Row(userId='200002', ts=1538394156000, page='Add to Playlist', level='free'),\n",
       " Row(userId='200002', ts=1538393977000, page='NextSong', level='free'),\n",
       " Row(userId='200002', ts=1538393807000, page='Thumbs Up', level='free'),\n",
       " Row(userId='200002', ts=1538393806000, page='NextSong', level='free'),\n",
       " Row(userId='200002', ts=1538393635000, page='NextSong', level='free'),\n",
       " Row(userId='200002', ts=1538393476000, page='Roll Advert', level='free'),\n",
       " Row(userId='200002', ts=1538393430000, page='NextSong', level='free')]"
      ]
     },
     "execution_count": 50,
     "metadata": {},
     "output_type": "execute_result"
    }
   ],
   "source": [
    "# checking on user 200002 we see this user switched from free to paid and its latest known level is paid not free\n",
    "# this is confirmed with other userId in the same case whether they switch from paid to free or free to paid\n",
    "df_valid.select([\"userId\", \"ts\", \"page\", \"level\"]).where(df_valid.userId == \"200002\").sort(\"ts\", ascending=False).collect()"
   ]
  },
  {
   "cell_type": "code",
   "execution_count": 51,
   "metadata": {},
   "outputs": [],
   "source": [
    "# free level = 0, paid =1\n",
    "df_valid = df_valid.withColumn('level_num', when(df_valid.level==\"free\", 0).otherwise(1))\n",
    "level = df_valid.select(['userId','level_num']).sort(\"ts\", ascending=False).dropDuplicates(['userId'])\n",
    "df_features = df_features.join(level, on = 'userId', how = 'left')"
   ]
  },
  {
   "cell_type": "markdown",
   "metadata": {},
   "source": [
    "* **User agent**  \n",
    "Maybe the technology stack (browser, OS) could explain churn or uncover issues in the application with certain platforms then churn"
   ]
  },
  {
   "cell_type": "code",
   "execution_count": 52,
   "metadata": {},
   "outputs": [],
   "source": [
    "# We need to one-hot encode the user agent feature\n",
    "\n",
    "# first we select UserAgent\n",
    "user_agents= df_valid.select(['userId', 'userAgent']).distinct()"
   ]
  },
  {
   "cell_type": "code",
   "execution_count": 53,
   "metadata": {},
   "outputs": [
    {
     "name": "stdout",
     "output_type": "stream",
     "text": [
      "+------+---------+\n",
      "|userId|userAgent|\n",
      "+------+---------+\n",
      "|     0|        0|\n",
      "+------+---------+\n",
      "\n"
     ]
    }
   ],
   "source": [
    "# check if any missing values\n",
    "user_agents.select([count(when(isnan(c) | col(c).isNull(), c)).alias(c) for c in user_agents.columns]).show()"
   ]
  },
  {
   "cell_type": "code",
   "execution_count": 54,
   "metadata": {},
   "outputs": [],
   "source": [
    "# we then create the indexed dataframe with StringIndexer\n",
    "# https://spark.apache.org/docs/latest/ml-features#stringindexer\n",
    "indexer = StringIndexer(inputCol=\"userAgent\", outputCol=\"userAgentIndex\")\n",
    "user_agents = indexer.fit(user_agents).transform(user_agents)"
   ]
  },
  {
   "cell_type": "code",
   "execution_count": 55,
   "metadata": {},
   "outputs": [
    {
     "name": "stdout",
     "output_type": "stream",
     "text": [
      "+------+---------------+\n",
      "|userId|   userAgentVec|\n",
      "+------+---------------+\n",
      "|200021|(55,[23],[1.0])|\n",
      "|   156| (55,[6],[1.0])|\n",
      "|100010| (55,[8],[1.0])|\n",
      "|     7|(55,[22],[1.0])|\n",
      "|   117| (55,[0],[1.0])|\n",
      "+------+---------------+\n",
      "only showing top 5 rows\n",
      "\n"
     ]
    }
   ],
   "source": [
    "# finally we encode with One-hot encoder\n",
    "# https://spark.apache.org/docs/latest/ml-features.html#onehotencoderestimator\n",
    "encoder = OneHotEncoderEstimator(inputCols=[\"userAgentIndex\"], outputCols=[\"userAgentVec\"])\n",
    "user_agents = encoder.fit(user_agents).transform(user_agents).select(['userId', 'userAgentVec'])\n",
    "user_agents.show(5)"
   ]
  },
  {
   "cell_type": "code",
   "execution_count": 56,
   "metadata": {},
   "outputs": [],
   "source": [
    "# add to features dataframe\n",
    "df_features = df_features.join(user_agents, on = 'userId', how = 'left')"
   ]
  },
  {
   "cell_type": "markdown",
   "metadata": {},
   "source": [
    "Finalize preparation of Features for modeling"
   ]
  },
  {
   "cell_type": "code",
   "execution_count": 57,
   "metadata": {},
   "outputs": [],
   "source": [
    "# Churn column is our 'label' for supervised learning\n",
    "df_features = df_features.withColumnRenamed('Churn', 'label')\n",
    "# userId column is not needed anymore\n",
    "df_features = df_features.drop(\"userId\")\n",
    "# fill any missing values with 0 just in case\n",
    "df_features = df_features.fillna(0)"
   ]
  },
  {
   "cell_type": "code",
   "execution_count": 58,
   "metadata": {},
   "outputs": [
    {
     "name": "stdout",
     "output_type": "stream",
     "text": [
      "root\n",
      " |-- Add Friend: long (nullable = true)\n",
      " |-- Add to Playlist: long (nullable = true)\n",
      " |-- label: long (nullable = true)\n",
      " |-- Downgrade: long (nullable = true)\n",
      " |-- Error: long (nullable = true)\n",
      " |-- Help: long (nullable = true)\n",
      " |-- Home: long (nullable = true)\n",
      " |-- Logout: long (nullable = true)\n",
      " |-- NextSong: long (nullable = true)\n",
      " |-- Roll Advert: long (nullable = true)\n",
      " |-- Settings: long (nullable = true)\n",
      " |-- Submit Downgrade: long (nullable = true)\n",
      " |-- Submit Upgrade: long (nullable = true)\n",
      " |-- Thumbs Down: long (nullable = true)\n",
      " |-- Thumbs Up: long (nullable = true)\n",
      " |-- Upgrade: long (nullable = true)\n",
      " |-- gender_num: integer (nullable = true)\n",
      " |-- num_Sessions: long (nullable = true)\n",
      " |-- total_length: double (nullable = false)\n",
      " |-- count_song: long (nullable = true)\n",
      " |-- days_active: double (nullable = false)\n",
      " |-- level_num: integer (nullable = true)\n",
      " |-- userAgentVec: vector (nullable = true)\n",
      "\n"
     ]
    }
   ],
   "source": [
    "df_features.printSchema()"
   ]
  },
  {
   "cell_type": "code",
   "execution_count": 59,
   "metadata": {},
   "outputs": [
    {
     "name": "stdout",
     "output_type": "stream",
     "text": [
      "+----------+---------------+-----+---------+-----+----+----+------+--------+-----------+--------+----------------+--------------+-----------+---------+-------+----------+------------+------------------+----------+-------------------+---------+---------------+\n",
      "|Add Friend|Add to Playlist|label|Downgrade|Error|Help|Home|Logout|NextSong|Roll Advert|Settings|Submit Downgrade|Submit Upgrade|Thumbs Down|Thumbs Up|Upgrade|gender_num|num_Sessions|      total_length|count_song|        days_active|level_num|   userAgentVec|\n",
      "+----------+---------------+-----+---------+-----+----+----+------+--------+-----------+--------+----------------+--------------+-----------+---------+-------+----------+------------+------------------+----------+-------------------+---------+---------------+\n",
      "|         4|              7|    0|        0|    0|   2|  11|     5|     275|         52|       0|               0|             0|          5|       17|      2|         1|           7| 66940.89735000003|       275|  44.21780092592593|        0| (55,[8],[1.0])|\n",
      "|         4|              8|    0|        5|    0|   2|  20|     5|     387|          7|       3|               0|             1|          6|       21|      2|         0|           6| 94008.87593999993|       387| 45.496805555555554|        1|(55,[14],[1.0])|\n",
      "|         0|              0|    1|        0|    0|   0|   0|     0|       8|          1|       0|               0|             0|          0|        0|      0|         0|           1|2089.1131000000005|         8|0.02053240740740741|        0| (55,[2],[1.0])|\n",
      "|        74|            118|    0|       41|    6|  23| 176|    59|    4079|          4|      20|               0|             0|         41|      171|      0|         1|          29|1012312.0927899999|      4079| 59.996944444444445|        1| (55,[4],[1.0])|\n",
      "|        28|             52|    1|       23|    1|  12|  75|    24|    2111|          0|      12|               0|             0|         21|      100|      0|         0|          10| 523275.8428000004|      2111| 15.779398148148148|        1| (55,[0],[1.0])|\n",
      "+----------+---------------+-----+---------+-----+----+----+------+--------+-----------+--------+----------------+--------------+-----------+---------+-------+----------+------------+------------------+----------+-------------------+---------+---------------+\n",
      "only showing top 5 rows\n",
      "\n"
     ]
    }
   ],
   "source": [
    "df_features.show(5)"
   ]
  },
  {
   "cell_type": "code",
   "execution_count": 60,
   "metadata": {},
   "outputs": [
    {
     "data": {
      "text/plain": [
       "225"
      ]
     },
     "execution_count": 60,
     "metadata": {},
     "output_type": "execute_result"
    }
   ],
   "source": [
    "df_features.count()"
   ]
  },
  {
   "cell_type": "markdown",
   "metadata": {},
   "source": [
    "**Our features are now ready for modeling !**"
   ]
  },
  {
   "cell_type": "markdown",
   "metadata": {},
   "source": [
    "---"
   ]
  },
  {
   "cell_type": "markdown",
   "metadata": {},
   "source": [
    "# Modeling\n",
    "Split the full dataset into train, test, and validation sets. Test out several of the machine learning methods you learned. Evaluate the accuracy of the various models, tuning parameters as necessary. Determine your winning model based on test accuracy and report results on the validation set. Since the churned users are a fairly small subset, I suggest using F1 score as the metric to optimize."
   ]
  },
  {
   "cell_type": "code",
   "execution_count": 61,
   "metadata": {},
   "outputs": [],
   "source": [
    "# split data set into training and test\n",
    "training_data, test_data = df_features.randomSplit([.8,.2])"
   ]
  },
  {
   "cell_type": "code",
   "execution_count": 62,
   "metadata": {},
   "outputs": [],
   "source": [
    "# create a VectorAssembler to combine our features into a single vector column\n",
    "# https://spark.apache.org/docs/latest/ml-features.html#vectorassembler\n",
    "assembler = VectorAssembler(\n",
    "                inputCols=df_features.drop(\"label\").columns,\n",
    "                outputCol=\"features\")"
   ]
  },
  {
   "cell_type": "code",
   "execution_count": 63,
   "metadata": {},
   "outputs": [],
   "source": [
    "# scale the data to a [0,1] range using a MinMaxScaler\n",
    "# https://spark.apache.org/docs/latest/ml-features.html#minmaxscaler\n",
    "scaler = MinMaxScaler(inputCol=\"features\", outputCol=\"scaledFeatures\")"
   ]
  },
  {
   "cell_type": "code",
   "execution_count": 64,
   "metadata": {},
   "outputs": [],
   "source": [
    "# create 3 classifiers to test out\n",
    "# https://spark.apache.org/docs/latest/ml-classification-regression.html\n",
    "lr = LogisticRegression(labelCol=\"label\", featuresCol=\"scaledFeatures\")\n",
    "linsvc = LinearSVC(labelCol=\"label\", featuresCol=\"scaledFeatures\")\n",
    "rf = RandomForestClassifier(labelCol=\"label\", featuresCol=\"scaledFeatures\")"
   ]
  },
  {
   "cell_type": "code",
   "execution_count": 65,
   "metadata": {},
   "outputs": [],
   "source": [
    "# construct our pipelines that we want to tune\n",
    "lr_pipeline = Pipeline(stages=[assembler, scaler, lr])\n",
    "linsvc_pipeline = Pipeline(stages=[assembler, scaler, linsvc])\n",
    "rf_pipeline = Pipeline(stages=[assembler, scaler, rf])"
   ]
  },
  {
   "cell_type": "code",
   "execution_count": 66,
   "metadata": {},
   "outputs": [],
   "source": [
    "# use ParamGridBuilder to construct a grid of parameters for our classifiers to search over. \n",
    "lr_paramGrid = (ParamGridBuilder().addGrid(lr.maxIter, [10, 20])\n",
    "                                  .addGrid(lr.regParam, [0.1, 0.01])\n",
    "                                  .build())\n",
    "linsvc_paramGrid = (ParamGridBuilder().addGrid(linsvc.maxIter, [10, 20])\n",
    "                                      .addGrid(linsvc.regParam,[0.01, 0.1, 0.2])\n",
    "                                      .build())\n",
    "rf_paramGrid = (ParamGridBuilder().addGrid(rf.numTrees, [20, 50])\n",
    "                                  .addGrid(rf.maxDepth, [10, 20])\n",
    "                                  #.addGrid(rf.impurity, ['gini','entropy'])\n",
    "                                  .build())"
   ]
  },
  {
   "cell_type": "code",
   "execution_count": 67,
   "metadata": {},
   "outputs": [],
   "source": [
    "def evaluateModel(pipeline, paramGrid, metric, train, test):\n",
    "    '''\n",
    "    Create and Evaluate model\n",
    "    Input:\n",
    "        pipeline - pipeline object\n",
    "        paramGrid - associated ParamGridBuilder to construct a grid of parameters to search over\n",
    "        metric - metric name to use in evaluation\n",
    "        train - training data\n",
    "        test - test data\n",
    "    Returns:\n",
    "        score - metric score\n",
    "        bestModel - best model found with cross validation\n",
    "    \n",
    "    '''\n",
    "    # set evaluation metric for best model selection\n",
    "    evaluator = MulticlassClassificationEvaluator(labelCol='label', predictionCol='prediction', metricName=metric)\n",
    "   \n",
    "    # set up 3-fold cross validation\n",
    "    crossval = CrossValidator(estimator=pipeline,\n",
    "                              estimatorParamMaps=paramGrid,\n",
    "                              evaluator=evaluator,\n",
    "                              numFolds=3)\n",
    "\n",
    "    # run cross-validation, and choose the best set of parameters.\n",
    "    cvModel = crossval.fit(train)\n",
    "    \n",
    "    # generate predictions\n",
    "    prediction = cvModel.transform(test)\n",
    "    \n",
    "    # evaluate model on metric\n",
    "    score =  evaluator.evaluate(prediction)\n",
    "    \n",
    "    # best model\n",
    "    bestModel = cvModel.bestModel\n",
    "    \n",
    "    # return score and bestModel\n",
    "    return [score, bestModel]"
   ]
  },
  {
   "cell_type": "code",
   "execution_count": 68,
   "metadata": {},
   "outputs": [],
   "source": [
    "f1_lr, lr_model = evaluateModel(lr_pipeline, lr_paramGrid, 'f1', training_data, test_data)"
   ]
  },
  {
   "cell_type": "code",
   "execution_count": 69,
   "metadata": {},
   "outputs": [],
   "source": [
    "f1_linsvc, linsvc_model = evaluateModel(linsvc_pipeline, linsvc_paramGrid, 'f1', training_data, test_data)"
   ]
  },
  {
   "cell_type": "code",
   "execution_count": 70,
   "metadata": {},
   "outputs": [],
   "source": [
    "f1_rf, rf_model = evaluateModel(rf_pipeline, rf_paramGrid, 'f1', training_data, test_data)"
   ]
  },
  {
   "cell_type": "code",
   "execution_count": 71,
   "metadata": {},
   "outputs": [
    {
     "name": "stdout",
     "output_type": "stream",
     "text": [
      "F1 score of Logistic Regression is: 0.6666666666666667\n",
      "F1 score of LinearSVC is: 0.6475376475376474\n",
      "F1 score of Random Forest is: 0.815827986040752\n"
     ]
    }
   ],
   "source": [
    "print ('F1 score of Logistic Regression is:', f1_lr)\n",
    "print ('F1 score of LinearSVC is:', f1_linsvc)\n",
    "print ('F1 score of Random Forest is:', f1_rf)"
   ]
  },
  {
   "cell_type": "markdown",
   "metadata": {},
   "source": [
    "Best performing model on F1 score is the Random Forest model. let's use it to look at feature importances."
   ]
  },
  {
   "cell_type": "code",
   "execution_count": 72,
   "metadata": {},
   "outputs": [],
   "source": [
    "# extract the feature names from the VectorAssembler object\n",
    "feature_names = np.array(rf_model.stages[0].getInputCols())\n",
    "# extract the feature importances from classifier\n",
    "feature_imp = np.array(rf_model.stages[-1].featureImportances)"
   ]
  },
  {
   "cell_type": "code",
   "execution_count": 73,
   "metadata": {},
   "outputs": [
    {
     "data": {
      "text/plain": [
       "76"
      ]
     },
     "execution_count": 73,
     "metadata": {},
     "output_type": "execute_result"
    }
   ],
   "source": [
    "# as we have one-hot encoded userAgent feature we need to adjust here by summing values for each:\n",
    "len(feature_imp)"
   ]
  },
  {
   "cell_type": "code",
   "execution_count": 74,
   "metadata": {},
   "outputs": [
    {
     "data": {
      "text/plain": [
       "22"
      ]
     },
     "execution_count": 74,
     "metadata": {},
     "output_type": "execute_result"
    }
   ],
   "source": [
    "len(feature_names)"
   ]
  },
  {
   "cell_type": "code",
   "execution_count": 75,
   "metadata": {},
   "outputs": [],
   "source": [
    "# sum the feature importances of all encoded user agents and assign to userAgentVec feature\n",
    "userAgentVec = np.sum(feature_imp[len(feature_names):])\n",
    "# add this sum to the last feature\n",
    "feature_imp = feature_imp[:len(feature_names)] + userAgentVec"
   ]
  },
  {
   "cell_type": "code",
   "execution_count": 76,
   "metadata": {},
   "outputs": [
    {
     "data": {
      "image/png": "[encoded data removed]",
      "text/plain": [
       "<matplotlib.figure.Figure at 0x7f74e1464cf8>"
      ]
     },
     "metadata": {
      "needs_background": "light"
     },
     "output_type": "display_data"
    }
   ],
   "source": [
    "# Use Pandas to represent how much each feature contributes to a prediction\n",
    "features_imp_df = pd.DataFrame(feature_imp, columns=[\"features_imp\"])\n",
    "features_imp_df[\"features\"] = feature_names\n",
    "ax = features_imp_df.sort_values(by=['features_imp'], ascending=False).plot.bar(x='features', y='features_imp')"
   ]
  },
  {
   "cell_type": "markdown",
   "metadata": {},
   "source": [
    "According to our Random Forest model which performed best in this example, the number of days a user is using the application is the feature which contributes the most to churn prediction.   \n",
    "The level (paid or free) and the action to switch from one to the other has not much contribution to churn. \n",
    "\n",
    "We could continue to improve our predictions by tuning our random forest model using other hyperparameters and adding values to existing ones. We could also remove some features from the model or creates new ones. Basically, continuing to iterate until we have better results on our predictions and better understing on features that contribute to our predictions. Finally, using the larger data set should increase the F1 score."
   ]
  },
  {
   "cell_type": "markdown",
   "metadata": {},
   "source": [
    "# Final Steps\n",
    "Clean up your code, adding comments and renaming variables to make the code easier to read and maintain. Refer to the Spark Project Overview page and Data Scientist Capstone Project Rubric to make sure you are including all components of the capstone project and meet all expectations. Remember, this includes thorough documentation in a README file in a Github repository, as well as a web app or blog post."
   ]
  },
  {
   "cell_type": "code",
   "execution_count": null,
   "metadata": {},
   "outputs": [],
   "source": []
  }
 ],
 "metadata": {
  "kernelspec": {
   "display_name": "Python 3",
   "language": "python",
   "name": "python3"
  },
  "language_info": {
   "codemirror_mode": {
    "name": "ipython",
    "version": 3
   },
   "file_extension": ".py",
   "mimetype": "text/x-python",
   "name": "python",
   "nbconvert_exporter": "python",
   "pygments_lexer": "ipython3",
   "version": "3.6.3"
  }
 },
 "nbformat": 4,
 "nbformat_minor": 2
}
